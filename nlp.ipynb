{
 "cells": [
  {
   "cell_type": "markdown",
   "metadata": {},
   "source": [
    "# Libraries"
   ]
  },
  {
   "cell_type": "code",
   "execution_count": 1,
   "metadata": {},
   "outputs": [],
   "source": [
    "import tensorflow as tf\n",
    "from tensorflow.keras import Input, Model\n",
    "from tensorflow.keras.preprocessing.sequence import pad_sequences\n",
    "from tensorflow.keras.preprocessing.text import Tokenizer, tokenizer_from_json\n",
    "from tensorflow.keras.models import load_model\n",
    "from tensorflow.keras.layers import Dense, SimpleRNN, GRU, LSTM, Dropout, Masking, Bidirectional, Embedding\n",
    "from tensorflow.keras.utils import plot_model\n",
    "from tensorflow.keras.callbacks import TensorBoard, EarlyStopping\n",
    "\n",
    "import matplotlib.pyplot as plt\n",
    "\n",
    "import os\n",
    "\n",
    "import datetime as dt\n",
    "\n",
    "import pandas as pd\n",
    "\n",
    "import sklearn \n",
    "from sklearn.preprocessing import OneHotEncoder\n",
    "from sklearn.metrics import ConfusionMatrixDisplay, classification_report\n",
    "from sklearn.model_selection import train_test_split\n",
    "\n",
    "import numpy as np\n",
    "\n",
    "import pickle"
   ]
  },
  {
   "cell_type": "markdown",
   "metadata": {},
   "source": [
    "# User-defined functions"
   ]
  },
  {
   "cell_type": "code",
   "execution_count": 2,
   "metadata": {},
   "outputs": [],
   "source": [
    "# function to decode the target\n",
    "def conv(x):\n",
    "    my_dict = {0: 'business',\n",
    "               1: 'entertainment',\n",
    "               2: 'politics',\n",
    "               3: 'sport',\n",
    "               4: 'tech'}\n",
    "  \n",
    "    return my_dict[x]"
   ]
  },
  {
   "cell_type": "markdown",
   "metadata": {},
   "source": [
    "# Statics"
   ]
  },
  {
   "cell_type": "code",
   "execution_count": 3,
   "metadata": {},
   "outputs": [],
   "source": [
    "# path for the training logs\n",
    "time_stamp = dt.datetime.now().strftime('%Y%m%d-%H%M%S')\n",
    "LOG_PATH = os.path.join(os.getcwd(), 'logs', time_stamp)"
   ]
  },
  {
   "cell_type": "markdown",
   "metadata": {},
   "source": [
    "# Load data"
   ]
  },
  {
   "cell_type": "code",
   "execution_count": 4,
   "metadata": {},
   "outputs": [
    {
     "data": {
      "text/html": [
       "<div>\n",
       "<style scoped>\n",
       "    .dataframe tbody tr th:only-of-type {\n",
       "        vertical-align: middle;\n",
       "    }\n",
       "\n",
       "    .dataframe tbody tr th {\n",
       "        vertical-align: top;\n",
       "    }\n",
       "\n",
       "    .dataframe thead th {\n",
       "        text-align: right;\n",
       "    }\n",
       "</style>\n",
       "<table border=\"1\" class=\"dataframe\">\n",
       "  <thead>\n",
       "    <tr style=\"text-align: right;\">\n",
       "      <th></th>\n",
       "      <th>category</th>\n",
       "      <th>text</th>\n",
       "    </tr>\n",
       "  </thead>\n",
       "  <tbody>\n",
       "    <tr>\n",
       "      <th>0</th>\n",
       "      <td>tech</td>\n",
       "      <td>tv future in the hands of viewers with home th...</td>\n",
       "    </tr>\n",
       "    <tr>\n",
       "      <th>1</th>\n",
       "      <td>business</td>\n",
       "      <td>worldcom boss  left books alone  former worldc...</td>\n",
       "    </tr>\n",
       "    <tr>\n",
       "      <th>2</th>\n",
       "      <td>sport</td>\n",
       "      <td>tigers wary of farrell  gamble  leicester say ...</td>\n",
       "    </tr>\n",
       "    <tr>\n",
       "      <th>3</th>\n",
       "      <td>sport</td>\n",
       "      <td>yeading face newcastle in fa cup premiership s...</td>\n",
       "    </tr>\n",
       "    <tr>\n",
       "      <th>4</th>\n",
       "      <td>entertainment</td>\n",
       "      <td>ocean s twelve raids box office ocean s twelve...</td>\n",
       "    </tr>\n",
       "    <tr>\n",
       "      <th>...</th>\n",
       "      <td>...</td>\n",
       "      <td>...</td>\n",
       "    </tr>\n",
       "    <tr>\n",
       "      <th>2220</th>\n",
       "      <td>business</td>\n",
       "      <td>cars pull down us retail figures us retail sal...</td>\n",
       "    </tr>\n",
       "    <tr>\n",
       "      <th>2221</th>\n",
       "      <td>politics</td>\n",
       "      <td>kilroy unveils immigration policy ex-chatshow ...</td>\n",
       "    </tr>\n",
       "    <tr>\n",
       "      <th>2222</th>\n",
       "      <td>entertainment</td>\n",
       "      <td>rem announce new glasgow concert us band rem h...</td>\n",
       "    </tr>\n",
       "    <tr>\n",
       "      <th>2223</th>\n",
       "      <td>politics</td>\n",
       "      <td>how political squabbles snowball it s become c...</td>\n",
       "    </tr>\n",
       "    <tr>\n",
       "      <th>2224</th>\n",
       "      <td>sport</td>\n",
       "      <td>souness delight at euro progress boss graeme s...</td>\n",
       "    </tr>\n",
       "  </tbody>\n",
       "</table>\n",
       "<p>2225 rows × 2 columns</p>\n",
       "</div>"
      ],
      "text/plain": [
       "           category                                               text\n",
       "0              tech  tv future in the hands of viewers with home th...\n",
       "1          business  worldcom boss  left books alone  former worldc...\n",
       "2             sport  tigers wary of farrell  gamble  leicester say ...\n",
       "3             sport  yeading face newcastle in fa cup premiership s...\n",
       "4     entertainment  ocean s twelve raids box office ocean s twelve...\n",
       "...             ...                                                ...\n",
       "2220       business  cars pull down us retail figures us retail sal...\n",
       "2221       politics  kilroy unveils immigration policy ex-chatshow ...\n",
       "2222  entertainment  rem announce new glasgow concert us band rem h...\n",
       "2223       politics  how political squabbles snowball it s become c...\n",
       "2224          sport  souness delight at euro progress boss graeme s...\n",
       "\n",
       "[2225 rows x 2 columns]"
      ]
     },
     "execution_count": 4,
     "metadata": {},
     "output_type": "execute_result"
    }
   ],
   "source": [
    "DATA_PATH = 'https://raw.githubusercontent.com/susanli2016/PyCon-Canada-2019-NLP-Tutorial/master/bbc-text.csv'\n",
    "df = pd.read_csv(DATA_PATH)\n",
    "df"
   ]
  },
  {
   "cell_type": "markdown",
   "metadata": {},
   "source": [
    "## general infos"
   ]
  },
  {
   "cell_type": "code",
   "execution_count": 5,
   "metadata": {},
   "outputs": [
    {
     "name": "stdout",
     "output_type": "stream",
     "text": [
      "<class 'pandas.core.frame.DataFrame'>\n",
      "RangeIndex: 2225 entries, 0 to 2224\n",
      "Data columns (total 2 columns):\n",
      " #   Column    Non-Null Count  Dtype \n",
      "---  ------    --------------  ----- \n",
      " 0   category  2225 non-null   object\n",
      " 1   text      2225 non-null   object\n",
      "dtypes: object(2)\n",
      "memory usage: 34.9+ KB\n"
     ]
    }
   ],
   "source": [
    "df.info()"
   ]
  },
  {
   "cell_type": "markdown",
   "metadata": {},
   "source": [
    "## number of text categories"
   ]
  },
  {
   "cell_type": "code",
   "execution_count": 6,
   "metadata": {},
   "outputs": [
    {
     "data": {
      "image/png": "[encoded data removed]",
      "text/plain": [
       "<Figure size 432x288 with 1 Axes>"
      ]
     },
     "metadata": {
      "needs_background": "light"
     },
     "output_type": "display_data"
    }
   ],
   "source": [
    "df['category'].value_counts().plot.barh()\n",
    "plt.show()"
   ]
  },
  {
   "cell_type": "markdown",
   "metadata": {},
   "source": [
    "# Data wrangling"
   ]
  },
  {
   "cell_type": "markdown",
   "metadata": {},
   "source": [
    "## handle duplicates"
   ]
  },
  {
   "cell_type": "markdown",
   "metadata": {},
   "source": [
    "### view how much duplicates"
   ]
  },
  {
   "cell_type": "code",
   "execution_count": 7,
   "metadata": {},
   "outputs": [
    {
     "data": {
      "text/plain": [
       "99"
      ]
     },
     "execution_count": 7,
     "metadata": {},
     "output_type": "execute_result"
    }
   ],
   "source": [
    "df.duplicated().sum()"
   ]
  },
  {
   "cell_type": "markdown",
   "metadata": {},
   "source": [
    "### view the duplicates itself"
   ]
  },
  {
   "cell_type": "code",
   "execution_count": 15,
   "metadata": {},
   "outputs": [
    {
     "data": {
      "text/html": [
       "<div>\n",
       "<style scoped>\n",
       "    .dataframe tbody tr th:only-of-type {\n",
       "        vertical-align: middle;\n",
       "    }\n",
       "\n",
       "    .dataframe tbody tr th {\n",
       "        vertical-align: top;\n",
       "    }\n",
       "\n",
       "    .dataframe thead th {\n",
       "        text-align: right;\n",
       "    }\n",
       "</style>\n",
       "<table border=\"1\" class=\"dataframe\">\n",
       "  <thead>\n",
       "    <tr style=\"text-align: right;\">\n",
       "      <th></th>\n",
       "      <th>category</th>\n",
       "      <th>text</th>\n",
       "    </tr>\n",
       "  </thead>\n",
       "  <tbody>\n",
       "    <tr>\n",
       "      <th>85</th>\n",
       "      <td>politics</td>\n",
       "      <td>hague  given up  his pm ambition former conser...</td>\n",
       "    </tr>\n",
       "    <tr>\n",
       "      <th>301</th>\n",
       "      <td>politics</td>\n",
       "      <td>fox attacks blair s tory  lies  tony blair lie...</td>\n",
       "    </tr>\n",
       "    <tr>\n",
       "      <th>496</th>\n",
       "      <td>tech</td>\n",
       "      <td>microsoft gets the blogging bug software giant...</td>\n",
       "    </tr>\n",
       "    <tr>\n",
       "      <th>543</th>\n",
       "      <td>business</td>\n",
       "      <td>economy  strong  in election year uk businesse...</td>\n",
       "    </tr>\n",
       "    <tr>\n",
       "      <th>582</th>\n",
       "      <td>entertainment</td>\n",
       "      <td>ray dvd beats box office takings oscar-nominat...</td>\n",
       "    </tr>\n",
       "    <tr>\n",
       "      <th>...</th>\n",
       "      <td>...</td>\n",
       "      <td>...</td>\n",
       "    </tr>\n",
       "    <tr>\n",
       "      <th>2206</th>\n",
       "      <td>politics</td>\n",
       "      <td>kennedy questions trust of blair lib dem leade...</td>\n",
       "    </tr>\n",
       "    <tr>\n",
       "      <th>2207</th>\n",
       "      <td>tech</td>\n",
       "      <td>california sets fines for spyware the makers o...</td>\n",
       "    </tr>\n",
       "    <tr>\n",
       "      <th>2213</th>\n",
       "      <td>tech</td>\n",
       "      <td>progress on new internet domains by early 2005...</td>\n",
       "    </tr>\n",
       "    <tr>\n",
       "      <th>2215</th>\n",
       "      <td>tech</td>\n",
       "      <td>junk e-mails on relentless rise spam traffic i...</td>\n",
       "    </tr>\n",
       "    <tr>\n",
       "      <th>2217</th>\n",
       "      <td>tech</td>\n",
       "      <td>rings of steel combat net attacks gambling is ...</td>\n",
       "    </tr>\n",
       "  </tbody>\n",
       "</table>\n",
       "<p>99 rows × 2 columns</p>\n",
       "</div>"
      ],
      "text/plain": [
       "           category                                               text\n",
       "85         politics  hague  given up  his pm ambition former conser...\n",
       "301        politics  fox attacks blair s tory  lies  tony blair lie...\n",
       "496            tech  microsoft gets the blogging bug software giant...\n",
       "543        business  economy  strong  in election year uk businesse...\n",
       "582   entertainment  ray dvd beats box office takings oscar-nominat...\n",
       "...             ...                                                ...\n",
       "2206       politics  kennedy questions trust of blair lib dem leade...\n",
       "2207           tech  california sets fines for spyware the makers o...\n",
       "2213           tech  progress on new internet domains by early 2005...\n",
       "2215           tech  junk e-mails on relentless rise spam traffic i...\n",
       "2217           tech  rings of steel combat net attacks gambling is ...\n",
       "\n",
       "[99 rows x 2 columns]"
      ]
     },
     "execution_count": 15,
     "metadata": {},
     "output_type": "execute_result"
    }
   ],
   "source": [
    "# df[df.duplicated()]"
   ]
  },
  {
   "cell_type": "markdown",
   "metadata": {},
   "source": [
    "### drop/remove duplicates"
   ]
  },
  {
   "cell_type": "code",
   "execution_count": 8,
   "metadata": {},
   "outputs": [
    {
     "data": {
      "text/plain": [
       "0"
      ]
     },
     "execution_count": 8,
     "metadata": {},
     "output_type": "execute_result"
    }
   ],
   "source": [
    "df = df.drop_duplicates()\n",
    "df.duplicated().sum()"
   ]
  },
  {
   "cell_type": "code",
   "execution_count": 9,
   "metadata": {},
   "outputs": [
    {
     "data": {
      "text/html": [
       "<div>\n",
       "<style scoped>\n",
       "    .dataframe tbody tr th:only-of-type {\n",
       "        vertical-align: middle;\n",
       "    }\n",
       "\n",
       "    .dataframe tbody tr th {\n",
       "        vertical-align: top;\n",
       "    }\n",
       "\n",
       "    .dataframe thead th {\n",
       "        text-align: right;\n",
       "    }\n",
       "</style>\n",
       "<table border=\"1\" class=\"dataframe\">\n",
       "  <thead>\n",
       "    <tr style=\"text-align: right;\">\n",
       "      <th></th>\n",
       "      <th>category</th>\n",
       "      <th>text</th>\n",
       "    </tr>\n",
       "  </thead>\n",
       "  <tbody>\n",
       "    <tr>\n",
       "      <th>0</th>\n",
       "      <td>tech</td>\n",
       "      <td>tv future in the hands of viewers with home th...</td>\n",
       "    </tr>\n",
       "    <tr>\n",
       "      <th>1</th>\n",
       "      <td>business</td>\n",
       "      <td>worldcom boss  left books alone  former worldc...</td>\n",
       "    </tr>\n",
       "    <tr>\n",
       "      <th>2</th>\n",
       "      <td>sport</td>\n",
       "      <td>tigers wary of farrell  gamble  leicester say ...</td>\n",
       "    </tr>\n",
       "    <tr>\n",
       "      <th>3</th>\n",
       "      <td>sport</td>\n",
       "      <td>yeading face newcastle in fa cup premiership s...</td>\n",
       "    </tr>\n",
       "    <tr>\n",
       "      <th>4</th>\n",
       "      <td>entertainment</td>\n",
       "      <td>ocean s twelve raids box office ocean s twelve...</td>\n",
       "    </tr>\n",
       "    <tr>\n",
       "      <th>...</th>\n",
       "      <td>...</td>\n",
       "      <td>...</td>\n",
       "    </tr>\n",
       "    <tr>\n",
       "      <th>2121</th>\n",
       "      <td>business</td>\n",
       "      <td>cars pull down us retail figures us retail sal...</td>\n",
       "    </tr>\n",
       "    <tr>\n",
       "      <th>2122</th>\n",
       "      <td>politics</td>\n",
       "      <td>kilroy unveils immigration policy ex-chatshow ...</td>\n",
       "    </tr>\n",
       "    <tr>\n",
       "      <th>2123</th>\n",
       "      <td>entertainment</td>\n",
       "      <td>rem announce new glasgow concert us band rem h...</td>\n",
       "    </tr>\n",
       "    <tr>\n",
       "      <th>2124</th>\n",
       "      <td>politics</td>\n",
       "      <td>how political squabbles snowball it s become c...</td>\n",
       "    </tr>\n",
       "    <tr>\n",
       "      <th>2125</th>\n",
       "      <td>sport</td>\n",
       "      <td>souness delight at euro progress boss graeme s...</td>\n",
       "    </tr>\n",
       "  </tbody>\n",
       "</table>\n",
       "<p>2126 rows × 2 columns</p>\n",
       "</div>"
      ],
      "text/plain": [
       "           category                                               text\n",
       "0              tech  tv future in the hands of viewers with home th...\n",
       "1          business  worldcom boss  left books alone  former worldc...\n",
       "2             sport  tigers wary of farrell  gamble  leicester say ...\n",
       "3             sport  yeading face newcastle in fa cup premiership s...\n",
       "4     entertainment  ocean s twelve raids box office ocean s twelve...\n",
       "...             ...                                                ...\n",
       "2121       business  cars pull down us retail figures us retail sal...\n",
       "2122       politics  kilroy unveils immigration policy ex-chatshow ...\n",
       "2123  entertainment  rem announce new glasgow concert us band rem h...\n",
       "2124       politics  how political squabbles snowball it s become c...\n",
       "2125          sport  souness delight at euro progress boss graeme s...\n",
       "\n",
       "[2126 rows x 2 columns]"
      ]
     },
     "execution_count": 9,
     "metadata": {},
     "output_type": "execute_result"
    }
   ],
   "source": [
    "df = df.reset_index(drop=True)\n",
    "df"
   ]
  },
  {
   "cell_type": "markdown",
   "metadata": {},
   "source": [
    "## remove HTML tags (if any)"
   ]
  },
  {
   "cell_type": "code",
   "execution_count": 10,
   "metadata": {},
   "outputs": [
    {
     "name": "stderr",
     "output_type": "stream",
     "text": [
      "C:\\Users\\rhmnnmhmd\\AppData\\Local\\Temp\\ipykernel_13592\\796569887.py:1: FutureWarning: The default value of regex will change from True to False in a future version.\n",
      "  df['text'] = df['text'].str.replace('<.*?>', ' ')\n"
     ]
    },
    {
     "data": {
      "text/html": [
       "<div>\n",
       "<style scoped>\n",
       "    .dataframe tbody tr th:only-of-type {\n",
       "        vertical-align: middle;\n",
       "    }\n",
       "\n",
       "    .dataframe tbody tr th {\n",
       "        vertical-align: top;\n",
       "    }\n",
       "\n",
       "    .dataframe thead th {\n",
       "        text-align: right;\n",
       "    }\n",
       "</style>\n",
       "<table border=\"1\" class=\"dataframe\">\n",
       "  <thead>\n",
       "    <tr style=\"text-align: right;\">\n",
       "      <th></th>\n",
       "      <th>category</th>\n",
       "      <th>text</th>\n",
       "    </tr>\n",
       "  </thead>\n",
       "  <tbody>\n",
       "    <tr>\n",
       "      <th>0</th>\n",
       "      <td>tech</td>\n",
       "      <td>tv future in the hands of viewers with home th...</td>\n",
       "    </tr>\n",
       "    <tr>\n",
       "      <th>1</th>\n",
       "      <td>business</td>\n",
       "      <td>worldcom boss  left books alone  former worldc...</td>\n",
       "    </tr>\n",
       "    <tr>\n",
       "      <th>2</th>\n",
       "      <td>sport</td>\n",
       "      <td>tigers wary of farrell  gamble  leicester say ...</td>\n",
       "    </tr>\n",
       "    <tr>\n",
       "      <th>3</th>\n",
       "      <td>sport</td>\n",
       "      <td>yeading face newcastle in fa cup premiership s...</td>\n",
       "    </tr>\n",
       "    <tr>\n",
       "      <th>4</th>\n",
       "      <td>entertainment</td>\n",
       "      <td>ocean s twelve raids box office ocean s twelve...</td>\n",
       "    </tr>\n",
       "    <tr>\n",
       "      <th>...</th>\n",
       "      <td>...</td>\n",
       "      <td>...</td>\n",
       "    </tr>\n",
       "    <tr>\n",
       "      <th>2121</th>\n",
       "      <td>business</td>\n",
       "      <td>cars pull down us retail figures us retail sal...</td>\n",
       "    </tr>\n",
       "    <tr>\n",
       "      <th>2122</th>\n",
       "      <td>politics</td>\n",
       "      <td>kilroy unveils immigration policy ex-chatshow ...</td>\n",
       "    </tr>\n",
       "    <tr>\n",
       "      <th>2123</th>\n",
       "      <td>entertainment</td>\n",
       "      <td>rem announce new glasgow concert us band rem h...</td>\n",
       "    </tr>\n",
       "    <tr>\n",
       "      <th>2124</th>\n",
       "      <td>politics</td>\n",
       "      <td>how political squabbles snowball it s become c...</td>\n",
       "    </tr>\n",
       "    <tr>\n",
       "      <th>2125</th>\n",
       "      <td>sport</td>\n",
       "      <td>souness delight at euro progress boss graeme s...</td>\n",
       "    </tr>\n",
       "  </tbody>\n",
       "</table>\n",
       "<p>2126 rows × 2 columns</p>\n",
       "</div>"
      ],
      "text/plain": [
       "           category                                               text\n",
       "0              tech  tv future in the hands of viewers with home th...\n",
       "1          business  worldcom boss  left books alone  former worldc...\n",
       "2             sport  tigers wary of farrell  gamble  leicester say ...\n",
       "3             sport  yeading face newcastle in fa cup premiership s...\n",
       "4     entertainment  ocean s twelve raids box office ocean s twelve...\n",
       "...             ...                                                ...\n",
       "2121       business  cars pull down us retail figures us retail sal...\n",
       "2122       politics  kilroy unveils immigration policy ex-chatshow ...\n",
       "2123  entertainment  rem announce new glasgow concert us band rem h...\n",
       "2124       politics  how political squabbles snowball it s become c...\n",
       "2125          sport  souness delight at euro progress boss graeme s...\n",
       "\n",
       "[2126 rows x 2 columns]"
      ]
     },
     "execution_count": 10,
     "metadata": {},
     "output_type": "execute_result"
    }
   ],
   "source": [
    "df['text'] = df['text'].str.replace('<.*?>', ' ')\n",
    "df"
   ]
  },
  {
   "cell_type": "markdown",
   "metadata": {},
   "source": [
    "## remove non-aphabetical characters"
   ]
  },
  {
   "cell_type": "code",
   "execution_count": 11,
   "metadata": {},
   "outputs": [
    {
     "name": "stderr",
     "output_type": "stream",
     "text": [
      "C:\\Users\\rhmnnmhmd\\AppData\\Local\\Temp\\ipykernel_13592\\4192767771.py:1: FutureWarning: The default value of regex will change from True to False in a future version.\n",
      "  df['text'] = df['text'].str.replace('[^a-zA-Z]', ' ')\n"
     ]
    },
    {
     "data": {
      "text/html": [
       "<div>\n",
       "<style scoped>\n",
       "    .dataframe tbody tr th:only-of-type {\n",
       "        vertical-align: middle;\n",
       "    }\n",
       "\n",
       "    .dataframe tbody tr th {\n",
       "        vertical-align: top;\n",
       "    }\n",
       "\n",
       "    .dataframe thead th {\n",
       "        text-align: right;\n",
       "    }\n",
       "</style>\n",
       "<table border=\"1\" class=\"dataframe\">\n",
       "  <thead>\n",
       "    <tr style=\"text-align: right;\">\n",
       "      <th></th>\n",
       "      <th>category</th>\n",
       "      <th>text</th>\n",
       "    </tr>\n",
       "  </thead>\n",
       "  <tbody>\n",
       "    <tr>\n",
       "      <th>0</th>\n",
       "      <td>tech</td>\n",
       "      <td>tv future in the hands of viewers with home th...</td>\n",
       "    </tr>\n",
       "    <tr>\n",
       "      <th>1</th>\n",
       "      <td>business</td>\n",
       "      <td>worldcom boss  left books alone  former worldc...</td>\n",
       "    </tr>\n",
       "    <tr>\n",
       "      <th>2</th>\n",
       "      <td>sport</td>\n",
       "      <td>tigers wary of farrell  gamble  leicester say ...</td>\n",
       "    </tr>\n",
       "    <tr>\n",
       "      <th>3</th>\n",
       "      <td>sport</td>\n",
       "      <td>yeading face newcastle in fa cup premiership s...</td>\n",
       "    </tr>\n",
       "    <tr>\n",
       "      <th>4</th>\n",
       "      <td>entertainment</td>\n",
       "      <td>ocean s twelve raids box office ocean s twelve...</td>\n",
       "    </tr>\n",
       "    <tr>\n",
       "      <th>...</th>\n",
       "      <td>...</td>\n",
       "      <td>...</td>\n",
       "    </tr>\n",
       "    <tr>\n",
       "      <th>2121</th>\n",
       "      <td>business</td>\n",
       "      <td>cars pull down us retail figures us retail sal...</td>\n",
       "    </tr>\n",
       "    <tr>\n",
       "      <th>2122</th>\n",
       "      <td>politics</td>\n",
       "      <td>kilroy unveils immigration policy ex chatshow ...</td>\n",
       "    </tr>\n",
       "    <tr>\n",
       "      <th>2123</th>\n",
       "      <td>entertainment</td>\n",
       "      <td>rem announce new glasgow concert us band rem h...</td>\n",
       "    </tr>\n",
       "    <tr>\n",
       "      <th>2124</th>\n",
       "      <td>politics</td>\n",
       "      <td>how political squabbles snowball it s become c...</td>\n",
       "    </tr>\n",
       "    <tr>\n",
       "      <th>2125</th>\n",
       "      <td>sport</td>\n",
       "      <td>souness delight at euro progress boss graeme s...</td>\n",
       "    </tr>\n",
       "  </tbody>\n",
       "</table>\n",
       "<p>2126 rows × 2 columns</p>\n",
       "</div>"
      ],
      "text/plain": [
       "           category                                               text\n",
       "0              tech  tv future in the hands of viewers with home th...\n",
       "1          business  worldcom boss  left books alone  former worldc...\n",
       "2             sport  tigers wary of farrell  gamble  leicester say ...\n",
       "3             sport  yeading face newcastle in fa cup premiership s...\n",
       "4     entertainment  ocean s twelve raids box office ocean s twelve...\n",
       "...             ...                                                ...\n",
       "2121       business  cars pull down us retail figures us retail sal...\n",
       "2122       politics  kilroy unveils immigration policy ex chatshow ...\n",
       "2123  entertainment  rem announce new glasgow concert us band rem h...\n",
       "2124       politics  how political squabbles snowball it s become c...\n",
       "2125          sport  souness delight at euro progress boss graeme s...\n",
       "\n",
       "[2126 rows x 2 columns]"
      ]
     },
     "execution_count": 11,
     "metadata": {},
     "output_type": "execute_result"
    }
   ],
   "source": [
    "df['text'] = df['text'].str.replace('[^a-zA-Z]', ' ')\n",
    "df"
   ]
  },
  {
   "cell_type": "markdown",
   "metadata": {},
   "source": [
    "## lowercase all reviews"
   ]
  },
  {
   "cell_type": "code",
   "execution_count": 12,
   "metadata": {},
   "outputs": [
    {
     "data": {
      "text/html": [
       "<div>\n",
       "<style scoped>\n",
       "    .dataframe tbody tr th:only-of-type {\n",
       "        vertical-align: middle;\n",
       "    }\n",
       "\n",
       "    .dataframe tbody tr th {\n",
       "        vertical-align: top;\n",
       "    }\n",
       "\n",
       "    .dataframe thead th {\n",
       "        text-align: right;\n",
       "    }\n",
       "</style>\n",
       "<table border=\"1\" class=\"dataframe\">\n",
       "  <thead>\n",
       "    <tr style=\"text-align: right;\">\n",
       "      <th></th>\n",
       "      <th>category</th>\n",
       "      <th>text</th>\n",
       "    </tr>\n",
       "  </thead>\n",
       "  <tbody>\n",
       "    <tr>\n",
       "      <th>0</th>\n",
       "      <td>tech</td>\n",
       "      <td>tv future in the hands of viewers with home th...</td>\n",
       "    </tr>\n",
       "    <tr>\n",
       "      <th>1</th>\n",
       "      <td>business</td>\n",
       "      <td>worldcom boss  left books alone  former worldc...</td>\n",
       "    </tr>\n",
       "    <tr>\n",
       "      <th>2</th>\n",
       "      <td>sport</td>\n",
       "      <td>tigers wary of farrell  gamble  leicester say ...</td>\n",
       "    </tr>\n",
       "    <tr>\n",
       "      <th>3</th>\n",
       "      <td>sport</td>\n",
       "      <td>yeading face newcastle in fa cup premiership s...</td>\n",
       "    </tr>\n",
       "    <tr>\n",
       "      <th>4</th>\n",
       "      <td>entertainment</td>\n",
       "      <td>ocean s twelve raids box office ocean s twelve...</td>\n",
       "    </tr>\n",
       "    <tr>\n",
       "      <th>...</th>\n",
       "      <td>...</td>\n",
       "      <td>...</td>\n",
       "    </tr>\n",
       "    <tr>\n",
       "      <th>2121</th>\n",
       "      <td>business</td>\n",
       "      <td>cars pull down us retail figures us retail sal...</td>\n",
       "    </tr>\n",
       "    <tr>\n",
       "      <th>2122</th>\n",
       "      <td>politics</td>\n",
       "      <td>kilroy unveils immigration policy ex chatshow ...</td>\n",
       "    </tr>\n",
       "    <tr>\n",
       "      <th>2123</th>\n",
       "      <td>entertainment</td>\n",
       "      <td>rem announce new glasgow concert us band rem h...</td>\n",
       "    </tr>\n",
       "    <tr>\n",
       "      <th>2124</th>\n",
       "      <td>politics</td>\n",
       "      <td>how political squabbles snowball it s become c...</td>\n",
       "    </tr>\n",
       "    <tr>\n",
       "      <th>2125</th>\n",
       "      <td>sport</td>\n",
       "      <td>souness delight at euro progress boss graeme s...</td>\n",
       "    </tr>\n",
       "  </tbody>\n",
       "</table>\n",
       "<p>2126 rows × 2 columns</p>\n",
       "</div>"
      ],
      "text/plain": [
       "           category                                               text\n",
       "0              tech  tv future in the hands of viewers with home th...\n",
       "1          business  worldcom boss  left books alone  former worldc...\n",
       "2             sport  tigers wary of farrell  gamble  leicester say ...\n",
       "3             sport  yeading face newcastle in fa cup premiership s...\n",
       "4     entertainment  ocean s twelve raids box office ocean s twelve...\n",
       "...             ...                                                ...\n",
       "2121       business  cars pull down us retail figures us retail sal...\n",
       "2122       politics  kilroy unveils immigration policy ex chatshow ...\n",
       "2123  entertainment  rem announce new glasgow concert us band rem h...\n",
       "2124       politics  how political squabbles snowball it s become c...\n",
       "2125          sport  souness delight at euro progress boss graeme s...\n",
       "\n",
       "[2126 rows x 2 columns]"
      ]
     },
     "execution_count": 12,
     "metadata": {},
     "output_type": "execute_result"
    }
   ],
   "source": [
    "df['text'] = df['text'].str.lower()\n",
    "df"
   ]
  },
  {
   "cell_type": "markdown",
   "metadata": {},
   "source": [
    "# Creating features"
   ]
  },
  {
   "cell_type": "markdown",
   "metadata": {},
   "source": [
    "## create features dataframe"
   ]
  },
  {
   "cell_type": "code",
   "execution_count": 13,
   "metadata": {},
   "outputs": [
    {
     "data": {
      "text/plain": [
       "0       tv future in the hands of viewers with home th...\n",
       "1       worldcom boss  left books alone  former worldc...\n",
       "2       tigers wary of farrell  gamble  leicester say ...\n",
       "3       yeading face newcastle in fa cup premiership s...\n",
       "4       ocean s twelve raids box office ocean s twelve...\n",
       "                              ...                        \n",
       "2121    cars pull down us retail figures us retail sal...\n",
       "2122    kilroy unveils immigration policy ex chatshow ...\n",
       "2123    rem announce new glasgow concert us band rem h...\n",
       "2124    how political squabbles snowball it s become c...\n",
       "2125    souness delight at euro progress boss graeme s...\n",
       "Name: text, Length: 2126, dtype: object"
      ]
     },
     "execution_count": 13,
     "metadata": {},
     "output_type": "execute_result"
    }
   ],
   "source": [
    "texts = df['text']\n",
    "texts"
   ]
  },
  {
   "cell_type": "markdown",
   "metadata": {},
   "source": [
    "## find the number of words in each text"
   ]
  },
  {
   "cell_type": "code",
   "execution_count": 14,
   "metadata": {},
   "outputs": [
    {
     "data": {
      "text/plain": [
       "0       744\n",
       "1       296\n",
       "2       247\n",
       "3       345\n",
       "4       261\n",
       "       ... \n",
       "2121    273\n",
       "2122    155\n",
       "2123    295\n",
       "2124    846\n",
       "2125    222\n",
       "Name: text, Length: 2126, dtype: int64"
      ]
     },
     "execution_count": 14,
     "metadata": {},
     "output_type": "execute_result"
    }
   ],
   "source": [
    "texts.apply(lambda x: len(x.split()))"
   ]
  },
  {
   "cell_type": "markdown",
   "metadata": {},
   "source": [
    "## boxplot of the number of words"
   ]
  },
  {
   "cell_type": "code",
   "execution_count": 15,
   "metadata": {},
   "outputs": [
    {
     "data": {
      "image/png": "[encoded data removed]",
      "text/plain": [
       "<Figure size 1080x360 with 1 Axes>"
      ]
     },
     "metadata": {
      "needs_background": "light"
     },
     "output_type": "display_data"
    }
   ],
   "source": [
    "fig, ax = plt.subplots(1, 1, figsize=(15, 5))\n",
    "texts.apply(lambda x: len(x.split())).plot.box(ax=ax, \n",
    "                                               vert=False, \n",
    "                                               title='Word numbers in each review', \n",
    "                                               grid=True)\n",
    "plt.tight_layout()\n",
    "plt.show()"
   ]
  },
  {
   "cell_type": "markdown",
   "metadata": {},
   "source": [
    "## find the median/mean/mode/max/min number of words for the whole given texts"
   ]
  },
  {
   "cell_type": "code",
   "execution_count": 16,
   "metadata": {},
   "outputs": [
    {
     "name": "stdout",
     "output_type": "stream",
     "text": [
      "Median: 333.0\n",
      "Mean: 386.3612417685795\n",
      "Mode: 219\n",
      "Max: 4469\n",
      "Min: 90\n"
     ]
    }
   ],
   "source": [
    "median = texts.apply(lambda x: len(x.split())).median()\n",
    "mean = texts.apply(lambda x: len(x.split())).mean()\n",
    "mode = texts.apply(lambda x: len(x.split())).mode()\n",
    "max_words = texts.apply(lambda x: len(x.split())).max()\n",
    "min_words = texts.apply(lambda x: len(x.split())).min()\n",
    "\n",
    "print(f'Median: {median}\\nMean: {mean}\\nMode: {mode.values[0]}\\nMax: {max_words}\\nMin: {min_words}')"
   ]
  },
  {
   "cell_type": "markdown",
   "metadata": {},
   "source": [
    "### because there are outliers in the above boxplots, we might want to consider using the median number of words as max padding length"
   ]
  },
  {
   "cell_type": "markdown",
   "metadata": {},
   "source": [
    "## tokenizing"
   ]
  },
  {
   "cell_type": "markdown",
   "metadata": {},
   "source": [
    "### create tokenizer object and fit to the given texts"
   ]
  },
  {
   "cell_type": "code",
   "execution_count": 17,
   "metadata": {},
   "outputs": [],
   "source": [
    "vocab_size = 10000\n",
    "oov_token = '<OOV>'\n",
    "\n",
    "tokenizer = Tokenizer(num_words=vocab_size, oov_token=oov_token)\n",
    "tokenizer.fit_on_texts(texts)"
   ]
  },
  {
   "cell_type": "markdown",
   "metadata": {},
   "source": [
    "### save the fitted tokenizer"
   ]
  },
  {
   "cell_type": "code",
   "execution_count": 43,
   "metadata": {},
   "outputs": [],
   "source": [
    "TOKENIZER_PATH = os.path.join(os.getcwd(), 'model', 'tokenizer.pkl')\n",
    "\n",
    "with open(TOKENIZER_PATH, 'wb') as file:\n",
    "    pickle.dump(tokenizer, file, protocol=pickle.HIGHEST_PROTOCOL)"
   ]
  },
  {
   "cell_type": "markdown",
   "metadata": {},
   "source": [
    "### the word index"
   ]
  },
  {
   "cell_type": "code",
   "execution_count": 18,
   "metadata": {},
   "outputs": [
    {
     "data": {
      "text/plain": [
       "{'<OOV>': 1,\n",
       " 'the': 2,\n",
       " 'to': 3,\n",
       " 'of': 4,\n",
       " 'and': 5,\n",
       " 'a': 6,\n",
       " 'in': 7,\n",
       " 's': 8,\n",
       " 'for': 9,\n",
       " 'is': 10,\n",
       " 'that': 11,\n",
       " 'it': 12,\n",
       " 'on': 13,\n",
       " 'said': 14,\n",
       " 'was': 15,\n",
       " 'he': 16,\n",
       " 'be': 17,\n",
       " 'with': 18,\n",
       " 'has': 19,\n",
       " 'as': 20,\n",
       " 'have': 21,\n",
       " 'at': 22,\n",
       " 'by': 23,\n",
       " 'but': 24,\n",
       " 'will': 25,\n",
       " 'are': 26,\n",
       " 'i': 27,\n",
       " 'from': 28,\n",
       " 'not': 29,\n",
       " 'his': 30,\n",
       " 'they': 31,\n",
       " 'we': 32,\n",
       " 'mr': 33,\n",
       " 'an': 34,\n",
       " 'this': 35,\n",
       " 'had': 36,\n",
       " 'would': 37,\n",
       " 'which': 38,\n",
       " 'been': 39,\n",
       " 'their': 40,\n",
       " 'year': 41,\n",
       " 'more': 42,\n",
       " 'up': 43,\n",
       " 'its': 44,\n",
       " 'were': 45,\n",
       " 'also': 46,\n",
       " 'who': 47,\n",
       " 'people': 48,\n",
       " 'us': 49,\n",
       " 'new': 50,\n",
       " 'm': 51,\n",
       " 'one': 52,\n",
       " 'there': 53,\n",
       " 'about': 54,\n",
       " 'after': 55,\n",
       " 'out': 56,\n",
       " 'can': 57,\n",
       " 'than': 58,\n",
       " 'or': 59,\n",
       " 'all': 60,\n",
       " 'if': 61,\n",
       " 'you': 62,\n",
       " 'could': 63,\n",
       " 'over': 64,\n",
       " 'last': 65,\n",
       " 'first': 66,\n",
       " 't': 67,\n",
       " 'when': 68,\n",
       " 'time': 69,\n",
       " 'two': 70,\n",
       " 'world': 71,\n",
       " 'government': 72,\n",
       " 'now': 73,\n",
       " 'into': 74,\n",
       " 'so': 75,\n",
       " 'what': 76,\n",
       " 'some': 77,\n",
       " 'other': 78,\n",
       " 'uk': 79,\n",
       " 'she': 80,\n",
       " 'years': 81,\n",
       " 'no': 82,\n",
       " 'bn': 83,\n",
       " 'against': 84,\n",
       " 'best': 85,\n",
       " 'only': 86,\n",
       " 'do': 87,\n",
       " 'just': 88,\n",
       " 'them': 89,\n",
       " 'make': 90,\n",
       " 'told': 91,\n",
       " 'being': 92,\n",
       " 'game': 93,\n",
       " 'get': 94,\n",
       " 'film': 95,\n",
       " 'like': 96,\n",
       " 'made': 97,\n",
       " 'back': 98,\n",
       " 'very': 99,\n",
       " 'such': 100,\n",
       " 'should': 101,\n",
       " 'three': 102,\n",
       " 'before': 103,\n",
       " 'because': 104,\n",
       " 'many': 105,\n",
       " 'labour': 106,\n",
       " 'her': 107,\n",
       " 'while': 108,\n",
       " 'music': 109,\n",
       " 'bbc': 110,\n",
       " 'next': 111,\n",
       " 'set': 112,\n",
       " 'well': 113,\n",
       " 'any': 114,\n",
       " 'most': 115,\n",
       " 'added': 116,\n",
       " 'take': 117,\n",
       " 'way': 118,\n",
       " 'number': 119,\n",
       " 'my': 120,\n",
       " 'market': 121,\n",
       " 'may': 122,\n",
       " 'company': 123,\n",
       " 'our': 124,\n",
       " 'says': 125,\n",
       " 'home': 126,\n",
       " 'him': 127,\n",
       " 'good': 128,\n",
       " 'election': 129,\n",
       " 'how': 130,\n",
       " 'off': 131,\n",
       " 'down': 132,\n",
       " 'then': 133,\n",
       " 'england': 134,\n",
       " 'going': 135,\n",
       " 'party': 136,\n",
       " 'games': 137,\n",
       " 'still': 138,\n",
       " 'much': 139,\n",
       " 'win': 140,\n",
       " 'since': 141,\n",
       " 'won': 142,\n",
       " 'think': 143,\n",
       " 'go': 144,\n",
       " 'second': 145,\n",
       " 'those': 146,\n",
       " 'work': 147,\n",
       " 'top': 148,\n",
       " 'firm': 149,\n",
       " 'show': 150,\n",
       " 'week': 151,\n",
       " 'blair': 152,\n",
       " 'say': 153,\n",
       " 'play': 154,\n",
       " 'part': 155,\n",
       " 'minister': 156,\n",
       " 'use': 157,\n",
       " 'between': 158,\n",
       " 'under': 159,\n",
       " 'british': 160,\n",
       " 'want': 161,\n",
       " 'million': 162,\n",
       " 'public': 163,\n",
       " 'high': 164,\n",
       " 'did': 165,\n",
       " 'see': 166,\n",
       " 'country': 167,\n",
       " 'five': 168,\n",
       " 'european': 169,\n",
       " 'technology': 170,\n",
       " 'through': 171,\n",
       " 'used': 172,\n",
       " 'tv': 173,\n",
       " 'however': 174,\n",
       " 'end': 175,\n",
       " 'where': 176,\n",
       " 'both': 177,\n",
       " 'news': 178,\n",
       " 'mobile': 179,\n",
       " 'these': 180,\n",
       " 'expected': 181,\n",
       " 'group': 182,\n",
       " 'even': 183,\n",
       " 'players': 184,\n",
       " 'four': 185,\n",
       " 'old': 186,\n",
       " 'sales': 187,\n",
       " 'plans': 188,\n",
       " 'me': 189,\n",
       " 'half': 190,\n",
       " 'six': 191,\n",
       " 'london': 192,\n",
       " 'day': 193,\n",
       " 'put': 194,\n",
       " 'come': 195,\n",
       " 'already': 196,\n",
       " 'chief': 197,\n",
       " 'brown': 198,\n",
       " 'months': 199,\n",
       " 'former': 200,\n",
       " 'during': 201,\n",
       " 'long': 202,\n",
       " 'growth': 203,\n",
       " 'britain': 204,\n",
       " 'too': 205,\n",
       " 'own': 206,\n",
       " 'economy': 207,\n",
       " 'money': 208,\n",
       " 'don': 209,\n",
       " 'tax': 210,\n",
       " 'deal': 211,\n",
       " 'director': 212,\n",
       " 'companies': 213,\n",
       " 'record': 214,\n",
       " 'service': 215,\n",
       " 'right': 216,\n",
       " 'industry': 217,\n",
       " 'big': 218,\n",
       " 'net': 219,\n",
       " 'international': 220,\n",
       " 'need': 221,\n",
       " 'team': 222,\n",
       " 'based': 223,\n",
       " 'month': 224,\n",
       " 'europe': 225,\n",
       " 'according': 226,\n",
       " 'help': 227,\n",
       " 'including': 228,\n",
       " 'third': 229,\n",
       " 'wales': 230,\n",
       " 'services': 231,\n",
       " 'place': 232,\n",
       " 'around': 233,\n",
       " 'system': 234,\n",
       " 'business': 235,\n",
       " 'great': 236,\n",
       " 'economic': 237,\n",
       " 'final': 238,\n",
       " 'bank': 239,\n",
       " 'another': 240,\n",
       " 'really': 241,\n",
       " 're': 242,\n",
       " 'club': 243,\n",
       " 'move': 244,\n",
       " 'open': 245,\n",
       " 'got': 246,\n",
       " 'called': 247,\n",
       " 'report': 248,\n",
       " 'start': 249,\n",
       " 'hit': 250,\n",
       " 'phone': 251,\n",
       " 'life': 252,\n",
       " 'future': 253,\n",
       " 'same': 254,\n",
       " 'users': 255,\n",
       " 'howard': 256,\n",
       " 'came': 257,\n",
       " 'france': 258,\n",
       " 'took': 259,\n",
       " 'general': 260,\n",
       " 'spokesman': 261,\n",
       " 'know': 262,\n",
       " 'better': 263,\n",
       " 'firms': 264,\n",
       " 'court': 265,\n",
       " 'digital': 266,\n",
       " 'video': 267,\n",
       " 'side': 268,\n",
       " 'law': 269,\n",
       " 'state': 270,\n",
       " 'radio': 271,\n",
       " 'united': 272,\n",
       " 'decision': 273,\n",
       " 'ireland': 274,\n",
       " 'real': 275,\n",
       " 'without': 276,\n",
       " 'office': 277,\n",
       " 'online': 278,\n",
       " 'far': 279,\n",
       " 'o': 280,\n",
       " 'despite': 281,\n",
       " 'president': 282,\n",
       " 'action': 283,\n",
       " 'campaign': 284,\n",
       " 'making': 285,\n",
       " 'found': 286,\n",
       " 've': 287,\n",
       " 'line': 288,\n",
       " 'saying': 289,\n",
       " 'china': 290,\n",
       " 'prime': 291,\n",
       " 'give': 292,\n",
       " 'information': 293,\n",
       " 'lot': 294,\n",
       " 'software': 295,\n",
       " 'seen': 296,\n",
       " 'awards': 297,\n",
       " 'national': 298,\n",
       " 'likely': 299,\n",
       " 'using': 300,\n",
       " 'countries': 301,\n",
       " 'figures': 302,\n",
       " 'run': 303,\n",
       " 'executive': 304,\n",
       " 'oil': 305,\n",
       " 'given': 306,\n",
       " 'offer': 307,\n",
       " 'foreign': 308,\n",
       " 'lost': 309,\n",
       " 'away': 310,\n",
       " 'cup': 311,\n",
       " 'match': 312,\n",
       " 'data': 313,\n",
       " 'player': 314,\n",
       " 'left': 315,\n",
       " 'playing': 316,\n",
       " 'media': 317,\n",
       " 'rise': 318,\n",
       " 'security': 319,\n",
       " 'computer': 320,\n",
       " 'december': 321,\n",
       " 'every': 322,\n",
       " 'biggest': 323,\n",
       " 'times': 324,\n",
       " 'secretary': 325,\n",
       " 'eu': 326,\n",
       " 'nations': 327,\n",
       " 'man': 328,\n",
       " 'star': 329,\n",
       " 'your': 330,\n",
       " 'past': 331,\n",
       " 'look': 332,\n",
       " 'although': 333,\n",
       " 'able': 334,\n",
       " 'january': 335,\n",
       " 'case': 336,\n",
       " 'award': 337,\n",
       " 'pay': 338,\n",
       " 'become': 339,\n",
       " 'later': 340,\n",
       " 'cost': 341,\n",
       " 'internet': 342,\n",
       " 'whether': 343,\n",
       " 'prices': 344,\n",
       " 'early': 345,\n",
       " 'again': 346,\n",
       " 'earlier': 347,\n",
       " 'less': 348,\n",
       " 'leader': 349,\n",
       " 'recent': 350,\n",
       " 'does': 351,\n",
       " 'shares': 352,\n",
       " 'cut': 353,\n",
       " 'children': 354,\n",
       " 'played': 355,\n",
       " 'little': 356,\n",
       " 'days': 357,\n",
       " 'interest': 358,\n",
       " 'hard': 359,\n",
       " 'house': 360,\n",
       " 'season': 361,\n",
       " 'strong': 362,\n",
       " 'few': 363,\n",
       " 'taking': 364,\n",
       " 'never': 365,\n",
       " 'michael': 366,\n",
       " 'role': 367,\n",
       " 'analysts': 368,\n",
       " 'lord': 369,\n",
       " 'important': 370,\n",
       " 'anti': 371,\n",
       " 'research': 372,\n",
       " 'legal': 373,\n",
       " 'believe': 374,\n",
       " 'bill': 375,\n",
       " 'spending': 376,\n",
       " 'due': 377,\n",
       " 'face': 378,\n",
       " 'tory': 379,\n",
       " 'further': 380,\n",
       " 'went': 381,\n",
       " 'current': 382,\n",
       " 'major': 383,\n",
       " 'increase': 384,\n",
       " 'following': 385,\n",
       " 'am': 386,\n",
       " 'budget': 387,\n",
       " 'support': 388,\n",
       " 'financial': 389,\n",
       " 'until': 390,\n",
       " 'local': 391,\n",
       " 'police': 392,\n",
       " 'ahead': 393,\n",
       " 'working': 394,\n",
       " 'john': 395,\n",
       " 'return': 396,\n",
       " 'south': 397,\n",
       " 'full': 398,\n",
       " 'change': 399,\n",
       " 'e': 400,\n",
       " 'chancellor': 401,\n",
       " 'issue': 402,\n",
       " 'david': 403,\n",
       " 'looking': 404,\n",
       " 'held': 405,\n",
       " 'series': 406,\n",
       " 'must': 407,\n",
       " 'thought': 408,\n",
       " 'scotland': 409,\n",
       " 'quarter': 410,\n",
       " 'control': 411,\n",
       " 'sunday': 412,\n",
       " 'try': 413,\n",
       " 'something': 414,\n",
       " 'g': 415,\n",
       " 'rights': 416,\n",
       " 'free': 417,\n",
       " 'each': 418,\n",
       " 'power': 419,\n",
       " 'films': 420,\n",
       " 'always': 421,\n",
       " 'women': 422,\n",
       " 'trade': 423,\n",
       " 'different': 424,\n",
       " 'having': 425,\n",
       " 'announced': 426,\n",
       " 'tories': 427,\n",
       " 'd': 428,\n",
       " 'among': 429,\n",
       " 'broadband': 430,\n",
       " 'yet': 431,\n",
       " 'chance': 432,\n",
       " 'dollar': 433,\n",
       " 'meeting': 434,\n",
       " 'winning': 435,\n",
       " 'sale': 436,\n",
       " 'latest': 437,\n",
       " 'microsoft': 438,\n",
       " 'ms': 439,\n",
       " 'injury': 440,\n",
       " 'almost': 441,\n",
       " 'lead': 442,\n",
       " 'point': 443,\n",
       " 'currently': 444,\n",
       " 'might': 445,\n",
       " 'key': 446,\n",
       " 'rate': 447,\n",
       " 'ever': 448,\n",
       " 'find': 449,\n",
       " 'ago': 450,\n",
       " 'keep': 451,\n",
       " 'programme': 452,\n",
       " 'problem': 453,\n",
       " 'coach': 454,\n",
       " 'share': 455,\n",
       " 'access': 456,\n",
       " 'personal': 457,\n",
       " 'claims': 458,\n",
       " 'taken': 459,\n",
       " 'problems': 460,\n",
       " 'low': 461,\n",
       " 'clear': 462,\n",
       " 'men': 463,\n",
       " 'performance': 464,\n",
       " 'things': 465,\n",
       " 'american': 466,\n",
       " 'statement': 467,\n",
       " 'chairman': 468,\n",
       " 'band': 469,\n",
       " 'include': 470,\n",
       " 'march': 471,\n",
       " 'enough': 472,\n",
       " 'here': 473,\n",
       " 'website': 474,\n",
       " 'rather': 475,\n",
       " 'behind': 476,\n",
       " 'political': 477,\n",
       " 'demand': 478,\n",
       " 'head': 479,\n",
       " 'minutes': 480,\n",
       " 'mark': 481,\n",
       " 'done': 482,\n",
       " 'across': 483,\n",
       " 'manager': 484,\n",
       " 'tony': 485,\n",
       " 'getting': 486,\n",
       " 'tuesday': 487,\n",
       " 'rugby': 488,\n",
       " 'th': 489,\n",
       " 'sold': 490,\n",
       " 'means': 491,\n",
       " 'wednesday': 492,\n",
       " 'released': 493,\n",
       " 'february': 494,\n",
       " 'war': 495,\n",
       " 'title': 496,\n",
       " 'needed': 497,\n",
       " 'price': 498,\n",
       " 'india': 499,\n",
       " 'continue': 500,\n",
       " 'term': 501,\n",
       " 'job': 502,\n",
       " 'once': 503,\n",
       " 'bid': 504,\n",
       " 'victory': 505,\n",
       " 'japan': 506,\n",
       " 'search': 507,\n",
       " 'possible': 508,\n",
       " 'november': 509,\n",
       " 'doing': 510,\n",
       " 'least': 511,\n",
       " 'chelsea': 512,\n",
       " 'council': 513,\n",
       " 'network': 514,\n",
       " 'list': 515,\n",
       " 'young': 516,\n",
       " 'williams': 517,\n",
       " 'monday': 518,\n",
       " 'within': 519,\n",
       " 'investment': 520,\n",
       " 'phones': 521,\n",
       " 'today': 522,\n",
       " 'costs': 523,\n",
       " 'weeks': 524,\n",
       " 'actor': 525,\n",
       " 'friday': 526,\n",
       " 'level': 527,\n",
       " 'yukos': 528,\n",
       " 'jobs': 529,\n",
       " 'warned': 530,\n",
       " 'result': 531,\n",
       " 'saturday': 532,\n",
       " 'coming': 533,\n",
       " 'allow': 534,\n",
       " 'huge': 535,\n",
       " 'fans': 536,\n",
       " 'mps': 537,\n",
       " 'act': 538,\n",
       " 'asked': 539,\n",
       " 'thing': 540,\n",
       " 'league': 541,\n",
       " 'centre': 542,\n",
       " 'members': 543,\n",
       " 'policy': 544,\n",
       " 'p': 545,\n",
       " 'plan': 546,\n",
       " 'close': 547,\n",
       " 'consumer': 548,\n",
       " 'vote': 549,\n",
       " 'union': 550,\n",
       " 'beat': 551,\n",
       " 'form': 552,\n",
       " 'mail': 553,\n",
       " 'issues': 554,\n",
       " 'forward': 555,\n",
       " 'production': 556,\n",
       " 'wanted': 557,\n",
       " 'running': 558,\n",
       " 'global': 559,\n",
       " 'main': 560,\n",
       " 'available': 561,\n",
       " 'hold': 562,\n",
       " 'french': 563,\n",
       " 'content': 564,\n",
       " 'human': 565,\n",
       " 'why': 566,\n",
       " 'higher': 567,\n",
       " 'live': 568,\n",
       " 'rates': 569,\n",
       " 'career': 570,\n",
       " 'known': 571,\n",
       " 'trying': 572,\n",
       " 'total': 573,\n",
       " 'agreed': 574,\n",
       " 'cash': 575,\n",
       " 'city': 576,\n",
       " 'success': 577,\n",
       " 'small': 578,\n",
       " 'iraq': 579,\n",
       " 'break': 580,\n",
       " 'saw': 581,\n",
       " 'health': 582,\n",
       " 'aid': 583,\n",
       " 'committee': 584,\n",
       " 'buy': 585,\n",
       " 'album': 586,\n",
       " 'competition': 587,\n",
       " 'hope': 588,\n",
       " 'football': 589,\n",
       " 'song': 590,\n",
       " 'short': 591,\n",
       " 'previous': 592,\n",
       " 'let': 593,\n",
       " 'comes': 594,\n",
       " 'though': 595,\n",
       " 'recently': 596,\n",
       " 'stock': 597,\n",
       " 'single': 598,\n",
       " 'evidence': 599,\n",
       " 'networks': 600,\n",
       " 'profits': 601,\n",
       " 'several': 602,\n",
       " 'race': 603,\n",
       " 'reports': 604,\n",
       " 'ministers': 605,\n",
       " 'wants': 606,\n",
       " 'failed': 607,\n",
       " 'sony': 608,\n",
       " 'difficult': 609,\n",
       " 'eight': 610,\n",
       " 'goal': 611,\n",
       " 'web': 612,\n",
       " 'book': 613,\n",
       " 'trial': 614,\n",
       " 'development': 615,\n",
       " 'event': 616,\n",
       " 'russian': 617,\n",
       " 'reported': 618,\n",
       " 'sport': 619,\n",
       " 'liberal': 620,\n",
       " 'thursday': 621,\n",
       " 'lib': 622,\n",
       " 'led': 623,\n",
       " 'apple': 624,\n",
       " 'pc': 625,\n",
       " 'showed': 626,\n",
       " 'commission': 627,\n",
       " 'christmas': 628,\n",
       " 'others': 629,\n",
       " 'sir': 630,\n",
       " 'late': 631,\n",
       " 'fourth': 632,\n",
       " 'rose': 633,\n",
       " 'call': 634,\n",
       " 'rules': 635,\n",
       " 'meet': 636,\n",
       " 'customers': 637,\n",
       " 'points': 638,\n",
       " 'fact': 639,\n",
       " 'charles': 640,\n",
       " 'nothing': 641,\n",
       " 'television': 642,\n",
       " 'site': 643,\n",
       " 'gaming': 644,\n",
       " 'board': 645,\n",
       " 'champion': 646,\n",
       " 'jones': 647,\n",
       " 'cannot': 648,\n",
       " 'italy': 649,\n",
       " 'family': 650,\n",
       " 'didn': 651,\n",
       " 'annual': 652,\n",
       " 'liverpool': 653,\n",
       " 'october': 654,\n",
       " 'prize': 655,\n",
       " 'september': 656,\n",
       " 'choice': 657,\n",
       " 'instead': 658,\n",
       " 'boss': 659,\n",
       " 'york': 660,\n",
       " 'shows': 661,\n",
       " 'test': 662,\n",
       " 'growing': 663,\n",
       " 'co': 664,\n",
       " 'parties': 665,\n",
       " 'feel': 666,\n",
       " 'consumers': 667,\n",
       " 'received': 668,\n",
       " 'claim': 669,\n",
       " 'name': 670,\n",
       " 'debt': 671,\n",
       " 'stop': 672,\n",
       " 'involved': 673,\n",
       " 'version': 674,\n",
       " 'mp': 675,\n",
       " 'popular': 676,\n",
       " 'arsenal': 677,\n",
       " 'movie': 678,\n",
       " 'project': 679,\n",
       " 'summer': 680,\n",
       " 'fall': 681,\n",
       " 'mean': 682,\n",
       " 'conference': 683,\n",
       " 'age': 684,\n",
       " 'car': 685,\n",
       " 'africa': 686,\n",
       " 'order': 687,\n",
       " 'euros': 688,\n",
       " 'release': 689,\n",
       " 'denied': 690,\n",
       " 'parliament': 691,\n",
       " 'australian': 692,\n",
       " 'pressure': 693,\n",
       " 'tour': 694,\n",
       " 'changes': 695,\n",
       " 'giant': 696,\n",
       " 'sure': 697,\n",
       " 'calls': 698,\n",
       " 'street': 699,\n",
       " 'leading': 700,\n",
       " 'fell': 701,\n",
       " 'large': 702,\n",
       " 'position': 703,\n",
       " 'bit': 704,\n",
       " 'education': 705,\n",
       " 'olympic': 706,\n",
       " 'actress': 707,\n",
       " 'themselves': 708,\n",
       " 'together': 709,\n",
       " 'round': 710,\n",
       " 'boost': 711,\n",
       " 'launch': 712,\n",
       " 'black': 713,\n",
       " 'box': 714,\n",
       " 'irish': 715,\n",
       " 'love': 716,\n",
       " 'association': 717,\n",
       " 'paid': 718,\n",
       " 'stars': 719,\n",
       " 'talks': 720,\n",
       " 'dvd': 721,\n",
       " 'accused': 722,\n",
       " 'manchester': 723,\n",
       " 'largest': 724,\n",
       " 'special': 725,\n",
       " 'paul': 726,\n",
       " 'german': 727,\n",
       " 'sent': 728,\n",
       " 'create': 729,\n",
       " 'similar': 730,\n",
       " 'claimed': 731,\n",
       " 'range': 732,\n",
       " 'potential': 733,\n",
       " 'gordon': 734,\n",
       " 'needs': 735,\n",
       " 'germany': 736,\n",
       " 'quite': 737,\n",
       " 'west': 738,\n",
       " 'school': 739,\n",
       " 'date': 740,\n",
       " 'ensure': 741,\n",
       " 'turn': 742,\n",
       " 'products': 743,\n",
       " 'ball': 744,\n",
       " 'believes': 745,\n",
       " 'opening': 746,\n",
       " 'voters': 747,\n",
       " 'dr': 748,\n",
       " 'sites': 749,\n",
       " 'senior': 750,\n",
       " 'stage': 751,\n",
       " 'martin': 752,\n",
       " 'weekend': 753,\n",
       " 'anything': 754,\n",
       " 'started': 755,\n",
       " 'whole': 756,\n",
       " 'singer': 757,\n",
       " 'launched': 758,\n",
       " 'immigration': 759,\n",
       " 'seven': 760,\n",
       " 'value': 761,\n",
       " 'hours': 762,\n",
       " 'pre': 763,\n",
       " 'appeal': 764,\n",
       " 'festival': 765,\n",
       " 'conservative': 766,\n",
       " 'exchange': 767,\n",
       " 'independent': 768,\n",
       " 'makes': 769,\n",
       " 'night': 770,\n",
       " 'grand': 771,\n",
       " 'idea': 772,\n",
       " 'russia': 773,\n",
       " 'remain': 774,\n",
       " 'simply': 775,\n",
       " 'scottish': 776,\n",
       " 'official': 777,\n",
       " 'either': 778,\n",
       " 'taxes': 779,\n",
       " 'stand': 780,\n",
       " 'bush': 781,\n",
       " 'squad': 782,\n",
       " 'proposals': 783,\n",
       " 'hopes': 784,\n",
       " 'period': 785,\n",
       " 'provide': 786,\n",
       " 'v': 787,\n",
       " 'oscar': 788,\n",
       " 'virus': 789,\n",
       " 'force': 790,\n",
       " 'll': 791,\n",
       " 'rock': 792,\n",
       " 'wrong': 793,\n",
       " 'ban': 794,\n",
       " 'results': 795,\n",
       " 'meanwhile': 796,\n",
       " 'robinson': 797,\n",
       " 'forced': 798,\n",
       " 'attacks': 799,\n",
       " 'drive': 800,\n",
       " 'impact': 801,\n",
       " 'devices': 802,\n",
       " 'survey': 803,\n",
       " 'bring': 804,\n",
       " 'comedy': 805,\n",
       " 'agency': 806,\n",
       " 'officials': 807,\n",
       " 'gave': 808,\n",
       " 'fraud': 809,\n",
       " 'admitted': 810,\n",
       " 'helped': 811,\n",
       " 'fight': 812,\n",
       " 'history': 813,\n",
       " 'speed': 814,\n",
       " 'ukip': 815,\n",
       " 'cards': 816,\n",
       " 'university': 817,\n",
       " 'average': 818,\n",
       " 'investors': 819,\n",
       " 'charge': 820,\n",
       " 'areas': 821,\n",
       " 'press': 822,\n",
       " 'kennedy': 823,\n",
       " 'itself': 824,\n",
       " 'cuts': 825,\n",
       " 'fund': 826,\n",
       " 'sell': 827,\n",
       " 'per': 828,\n",
       " 'everyone': 829,\n",
       " 'chart': 830,\n",
       " 'course': 831,\n",
       " 'happy': 832,\n",
       " 'energy': 833,\n",
       " 'numbers': 834,\n",
       " 'markets': 835,\n",
       " 'standard': 836,\n",
       " 'drugs': 837,\n",
       " 'everything': 838,\n",
       " 'soon': 839,\n",
       " 'australia': 840,\n",
       " 'worked': 841,\n",
       " 'charges': 842,\n",
       " 'winner': 843,\n",
       " 'included': 844,\n",
       " 'smith': 845,\n",
       " 'private': 846,\n",
       " 'community': 847,\n",
       " 'groups': 848,\n",
       " 'moment': 849,\n",
       " 'compared': 850,\n",
       " 'original': 851,\n",
       " 'became': 852,\n",
       " 'brought': 853,\n",
       " 'staff': 854,\n",
       " 'laws': 855,\n",
       " 'view': 856,\n",
       " 'target': 857,\n",
       " 'authorities': 858,\n",
       " 'named': 859,\n",
       " 'outside': 860,\n",
       " 'extra': 861,\n",
       " 'poor': 862,\n",
       " 'turned': 863,\n",
       " 'sector': 864,\n",
       " 'attack': 865,\n",
       " 'commons': 866,\n",
       " 'america': 867,\n",
       " 'euro': 868,\n",
       " 'opportunity': 869,\n",
       " 'concerns': 870,\n",
       " 'kilroy': 871,\n",
       " 'particularly': 872,\n",
       " 'comments': 873,\n",
       " 'process': 874,\n",
       " 'situation': 875,\n",
       " 'june': 876,\n",
       " 'member': 877,\n",
       " 'department': 878,\n",
       " 'remains': 879,\n",
       " 'himself': 880,\n",
       " 'double': 881,\n",
       " 'bt': 882,\n",
       " 'defence': 883,\n",
       " 'whose': 884,\n",
       " 'shot': 885,\n",
       " 'tough': 886,\n",
       " 'newspaper': 887,\n",
       " 'roddick': 888,\n",
       " 'card': 889,\n",
       " 'spent': 890,\n",
       " 'battle': 891,\n",
       " 'decided': 892,\n",
       " 'takes': 893,\n",
       " 'front': 894,\n",
       " 'challenge': 895,\n",
       " 'lower': 896,\n",
       " 'tsunami': 897,\n",
       " 'audience': 898,\n",
       " 'bad': 899,\n",
       " 'often': 900,\n",
       " 'area': 901,\n",
       " 'via': 902,\n",
       " 'cross': 903,\n",
       " 'workers': 904,\n",
       " 'body': 905,\n",
       " 'concerned': 906,\n",
       " 'bought': 907,\n",
       " 'hand': 908,\n",
       " 'created': 909,\n",
       " 'civil': 910,\n",
       " 'majority': 911,\n",
       " 'air': 912,\n",
       " 'entertainment': 913,\n",
       " 'google': 914,\n",
       " 'generation': 915,\n",
       " 'quality': 916,\n",
       " 'confirmed': 917,\n",
       " 'unit': 918,\n",
       " 'robert': 919,\n",
       " 'screen': 920,\n",
       " 'experience': 921,\n",
       " 'andy': 922,\n",
       " 'step': 923,\n",
       " 'host': 924,\n",
       " 'focus': 925,\n",
       " 'poll': 926,\n",
       " 'finance': 927,\n",
       " 'training': 928,\n",
       " 'speaking': 929,\n",
       " 'selling': 930,\n",
       " 'amount': 931,\n",
       " 'lords': 932,\n",
       " 'johnson': 933,\n",
       " 'gone': 934,\n",
       " 'april': 935,\n",
       " 'looked': 936,\n",
       " 'levels': 937,\n",
       " 'shown': 938,\n",
       " 'silk': 939,\n",
       " 'mike': 940,\n",
       " 'example': 941,\n",
       " 'speech': 942,\n",
       " 'captain': 943,\n",
       " 'non': 944,\n",
       " 'reached': 945,\n",
       " 'analyst': 946,\n",
       " 'lives': 947,\n",
       " 'indian': 948,\n",
       " 'signed': 949,\n",
       " 'champions': 950,\n",
       " 'increased': 951,\n",
       " 'story': 952,\n",
       " 'states': 953,\n",
       " 'reach': 954,\n",
       " 'revealed': 955,\n",
       " 'leave': 956,\n",
       " 'raise': 957,\n",
       " 'james': 958,\n",
       " 'deutsche': 959,\n",
       " 'terms': 960,\n",
       " 'row': 961,\n",
       " 'critics': 962,\n",
       " 'risk': 963,\n",
       " 'stay': 964,\n",
       " 'spend': 965,\n",
       " 'confidence': 966,\n",
       " 'positive': 967,\n",
       " 'campbell': 968,\n",
       " 'north': 969,\n",
       " 'white': 970,\n",
       " 'easy': 971,\n",
       " 'message': 972,\n",
       " 'fast': 973,\n",
       " 'longer': 974,\n",
       " 'insisted': 975,\n",
       " 'conservatives': 976,\n",
       " 'post': 977,\n",
       " 'debate': 978,\n",
       " 'schools': 979,\n",
       " 'alan': 980,\n",
       " 'davis': 981,\n",
       " 'credit': 982,\n",
       " 'banks': 983,\n",
       " 'offered': 984,\n",
       " 'worth': 985,\n",
       " 'looks': 986,\n",
       " 'deficit': 987,\n",
       " 'hollywood': 988,\n",
       " 'systems': 989,\n",
       " 'serious': 990,\n",
       " 'previously': 991,\n",
       " 'trading': 992,\n",
       " 'care': 993,\n",
       " 'profit': 994,\n",
       " 'argued': 995,\n",
       " 'response': 996,\n",
       " 'titles': 997,\n",
       " 'build': 998,\n",
       " 'social': 999,\n",
       " 'opposition': 1000,\n",
       " ...}"
      ]
     },
     "execution_count": 18,
     "metadata": {},
     "output_type": "execute_result"
    }
   ],
   "source": [
    "tokenizer.word_index"
   ]
  },
  {
   "cell_type": "markdown",
   "metadata": {},
   "source": [
    "### tokenize the given texts"
   ]
  },
  {
   "cell_type": "code",
   "execution_count": 19,
   "metadata": {},
   "outputs": [],
   "source": [
    "texts_tokenized = tokenizer.texts_to_sequences(texts)\n",
    "# len(reviews_tokenized[0])"
   ]
  },
  {
   "cell_type": "markdown",
   "metadata": {},
   "source": [
    "## padding the tokenized array"
   ]
  },
  {
   "cell_type": "code",
   "execution_count": 22,
   "metadata": {},
   "outputs": [
    {
     "data": {
      "text/plain": [
       "(2126, 333)"
      ]
     },
     "execution_count": 22,
     "metadata": {},
     "output_type": "execute_result"
    }
   ],
   "source": [
    "# max length of the padded array (usually depends on the median/mean/mode/min/max number of words per texts)\n",
    "# we choose median because there are outliers \n",
    "max_len = int(texts.apply(lambda x: len(x.split())).median())\n",
    "\n",
    "texts_tokenized_padded = pad_sequences(texts_tokenized, \n",
    "                                       maxlen=max_len, \n",
    "                                       padding='post', \n",
    "                                       truncating='post')\n",
    "texts_tokenized_padded.shape"
   ]
  },
  {
   "cell_type": "code",
   "execution_count": 23,
   "metadata": {},
   "outputs": [
    {
     "data": {
      "text/plain": [
       "array([[ 173,  253,    7, ...,   42, 5193,  402],\n",
       "       [1598,  659,  315, ...,    0,    0,    0],\n",
       "       [4753, 7101,    4, ...,    0,    0,    0],\n",
       "       ...,\n",
       "       [5739, 2184,   50, ...,    0,    0,    0],\n",
       "       [ 130,  477,    1, ...,    2, 5135, 7564],\n",
       "       [2438, 7542,   22, ...,    0,    0,    0]])"
      ]
     },
     "execution_count": 23,
     "metadata": {},
     "output_type": "execute_result"
    }
   ],
   "source": [
    "texts_tokenized_padded"
   ]
  },
  {
   "cell_type": "markdown",
   "metadata": {},
   "source": [
    "# Creating target"
   ]
  },
  {
   "cell_type": "markdown",
   "metadata": {},
   "source": [
    "## encode the category using OneHotEncoder"
   ]
  },
  {
   "cell_type": "code",
   "execution_count": 24,
   "metadata": {},
   "outputs": [
    {
     "data": {
      "text/plain": [
       "(2126, 5)"
      ]
     },
     "execution_count": 24,
     "metadata": {},
     "output_type": "execute_result"
    }
   ],
   "source": [
    "ohe = OneHotEncoder(sparse=False)\n",
    "category_encoded = ohe.fit_transform(df[['category']])\n",
    "\n",
    "category_encoded.shape"
   ]
  },
  {
   "cell_type": "code",
   "execution_count": 25,
   "metadata": {},
   "outputs": [
    {
     "data": {
      "text/plain": [
       "array([[0., 0., 0., 0., 1.],\n",
       "       [1., 0., 0., 0., 0.],\n",
       "       [0., 0., 0., 1., 0.],\n",
       "       ...,\n",
       "       [0., 1., 0., 0., 0.],\n",
       "       [0., 0., 1., 0., 0.],\n",
       "       [0., 0., 0., 1., 0.]])"
      ]
     },
     "execution_count": 25,
     "metadata": {},
     "output_type": "execute_result"
    }
   ],
   "source": [
    "category_encoded"
   ]
  },
  {
   "cell_type": "markdown",
   "metadata": {},
   "source": [
    "## categories observed during fitting"
   ]
  },
  {
   "cell_type": "code",
   "execution_count": 26,
   "metadata": {},
   "outputs": [
    {
     "data": {
      "text/plain": [
       "[array(['business', 'entertainment', 'politics', 'sport', 'tech'],\n",
       "       dtype=object)]"
      ]
     },
     "execution_count": 26,
     "metadata": {},
     "output_type": "execute_result"
    }
   ],
   "source": [
    "ohe.categories_"
   ]
  },
  {
   "cell_type": "markdown",
   "metadata": {},
   "source": [
    "## save the encoder"
   ]
  },
  {
   "cell_type": "code",
   "execution_count": 59,
   "metadata": {},
   "outputs": [],
   "source": [
    "OHE_PATH = os.path.join(os.getcwd(), 'model', 'ohe.pkl')\n",
    "\n",
    "with open(OHE_PATH, 'wb') as file:\n",
    "    pickle.dump(ohe, file)"
   ]
  },
  {
   "cell_type": "markdown",
   "metadata": {},
   "source": [
    "# Train-test split"
   ]
  },
  {
   "cell_type": "code",
   "execution_count": 29,
   "metadata": {},
   "outputs": [],
   "source": [
    "X_train, X_test, y_train, y_test = train_test_split(texts_tokenized_padded, \n",
    "                                                    category_encoded, \n",
    "                                                    test_size=0.2, \n",
    "                                                    random_state=190922)"
   ]
  },
  {
   "cell_type": "markdown",
   "metadata": {},
   "source": [
    "# Deep Learning"
   ]
  },
  {
   "cell_type": "markdown",
   "metadata": {},
   "source": [
    "## create network layers"
   ]
  },
  {
   "cell_type": "code",
   "execution_count": 30,
   "metadata": {},
   "outputs": [],
   "source": [
    "input_shape = X_train.shape[-1]\n",
    "output_shape = y_train.shape[-1]\n",
    "embedding_dim = 64\n",
    "\n",
    "input_1 = Input(shape=(input_shape,))\n",
    "\n",
    "hl_0 = Embedding(input_dim=vocab_size, output_dim=embedding_dim)(input_1)\n",
    "hl_1 = Bidirectional(LSTM(embedding_dim, return_sequences=True))(hl_0)\n",
    "hl_2 = Dropout(0.4)(hl_1)\n",
    "hl_3 = LSTM(128)(hl_2)\n",
    "hl_4 = Dropout(0.4)(hl_3)\n",
    "hl_5 = Dense(128, activation='relu')(hl_4)\n",
    "hl_6 = Dropout(0.4)(hl_5)       \n",
    "\n",
    "output_1 = Dense(output_shape, activation='softmax')(hl_6)"
   ]
  },
  {
   "cell_type": "markdown",
   "metadata": {},
   "source": [
    "## create model"
   ]
  },
  {
   "cell_type": "code",
   "execution_count": 31,
   "metadata": {},
   "outputs": [
    {
     "name": "stdout",
     "output_type": "stream",
     "text": [
      "Model: \"functional_1\"\n",
      "_________________________________________________________________\n",
      "Layer (type)                 Output Shape              Param #   \n",
      "=================================================================\n",
      "input_1 (InputLayer)         [(None, 333)]             0         \n",
      "_________________________________________________________________\n",
      "embedding (Embedding)        (None, 333, 64)           640000    \n",
      "_________________________________________________________________\n",
      "bidirectional (Bidirectional (None, 333, 128)          66048     \n",
      "_________________________________________________________________\n",
      "dropout (Dropout)            (None, 333, 128)          0         \n",
      "_________________________________________________________________\n",
      "lstm_1 (LSTM)                (None, 128)               131584    \n",
      "_________________________________________________________________\n",
      "dropout_1 (Dropout)          (None, 128)               0         \n",
      "_________________________________________________________________\n",
      "dense (Dense)                (None, 128)               16512     \n",
      "_________________________________________________________________\n",
      "dropout_2 (Dropout)          (None, 128)               0         \n",
      "_________________________________________________________________\n",
      "dense_1 (Dense)              (None, 5)                 645       \n",
      "=================================================================\n",
      "Total params: 854,789\n",
      "Trainable params: 854,789\n",
      "Non-trainable params: 0\n",
      "_________________________________________________________________\n"
     ]
    }
   ],
   "source": [
    "model = Model(inputs=input_1, outputs=output_1)\n",
    "model.summary()"
   ]
  },
  {
   "cell_type": "markdown",
   "metadata": {},
   "source": [
    "## plot model networks"
   ]
  },
  {
   "cell_type": "code",
   "execution_count": 32,
   "metadata": {},
   "outputs": [
    {
     "data": {
      "image/png": "[encoded data removed]",
      "text/plain": [
       "<IPython.core.display.Image object>"
      ]
     },
     "execution_count": 32,
     "metadata": {},
     "output_type": "execute_result"
    }
   ],
   "source": [
    "plot_model(model, show_shapes=True, show_layer_names=True)"
   ]
  },
  {
   "cell_type": "markdown",
   "metadata": {},
   "source": [
    "## compile model"
   ]
  },
  {
   "cell_type": "code",
   "execution_count": 32,
   "metadata": {},
   "outputs": [],
   "source": [
    "model.compile(optimizer='adam', loss='categorical_crossentropy', metrics='acc')"
   ]
  },
  {
   "cell_type": "markdown",
   "metadata": {},
   "source": [
    "## callbacks"
   ]
  },
  {
   "cell_type": "code",
   "execution_count": 34,
   "metadata": {},
   "outputs": [],
   "source": [
    "tensorboard_callback = TensorBoard(log_dir=LOG_PATH)\n",
    "early_stopping_callback = EarlyStopping(monitor='loss', patience=3, verbose='min')"
   ]
  },
  {
   "cell_type": "markdown",
   "metadata": {},
   "source": [
    "# Model training"
   ]
  },
  {
   "cell_type": "markdown",
   "metadata": {},
   "source": [
    "## train model and save History object"
   ]
  },
  {
   "cell_type": "code",
   "execution_count": 37,
   "metadata": {},
   "outputs": [
    {
     "name": "stdout",
     "output_type": "stream",
     "text": [
      "Epoch 1/10\n",
      "10/10 [==============================] - 31s 3s/step - loss: 1.5373 - acc: 0.2629 - val_loss: 1.4808 - val_acc: 0.3052\n",
      "Epoch 2/10\n",
      "10/10 [==============================] - 31s 3s/step - loss: 1.4683 - acc: 0.2929 - val_loss: 1.2753 - val_acc: 0.3756\n",
      "Epoch 3/10\n",
      "10/10 [==============================] - 29s 3s/step - loss: 1.3281 - acc: 0.3718 - val_loss: 1.3398 - val_acc: 0.3286\n",
      "Epoch 4/10\n",
      "10/10 [==============================] - 28s 3s/step - loss: 1.2980 - acc: 0.3494 - val_loss: 1.2523 - val_acc: 0.3873\n",
      "Epoch 5/10\n",
      "10/10 [==============================] - 28s 3s/step - loss: 1.2368 - acc: 0.3806 - val_loss: 1.1594 - val_acc: 0.3756\n",
      "Epoch 6/10\n",
      "10/10 [==============================] - 27s 3s/step - loss: 1.1720 - acc: 0.4065 - val_loss: 1.2769 - val_acc: 0.4061\n",
      "Epoch 7/10\n",
      "10/10 [==============================] - 28s 3s/step - loss: 1.1746 - acc: 0.4076 - val_loss: 1.2844 - val_acc: 0.3592\n",
      "Epoch 8/10\n",
      "10/10 [==============================] - 27s 3s/step - loss: 1.1066 - acc: 0.4106 - val_loss: 1.1335 - val_acc: 0.4038\n",
      "Epoch 9/10\n",
      "10/10 [==============================] - 34s 3s/step - loss: 1.0830 - acc: 0.4182 - val_loss: 1.1561 - val_acc: 0.4085\n",
      "Epoch 10/10\n",
      "10/10 [==============================] - 32s 3s/step - loss: 1.1180 - acc: 0.4006 - val_loss: 1.2053 - val_acc: 0.4061\n"
     ]
    }
   ],
   "source": [
    "model_hist = model.fit(X_train, \n",
    "                       y_train, \n",
    "                       epochs=10,\n",
    "                       batch_size=170,\n",
    "                       validation_data=(X_test, y_test),\n",
    "                       callbacks=[tensorboard_callback, early_stopping_callback])"
   ]
  },
  {
   "cell_type": "markdown",
   "metadata": {},
   "source": [
    "## plot loss and metrics against epochs"
   ]
  },
  {
   "cell_type": "code",
   "execution_count": 38,
   "metadata": {},
   "outputs": [
    {
     "data": {
      "image/png": "[encoded data removed]",
      "text/plain": [
       "<Figure size 720x360 with 2 Axes>"
      ]
     },
     "metadata": {
      "needs_background": "light"
     },
     "output_type": "display_data"
    }
   ],
   "source": [
    "train_loss = model_hist.history['loss']\n",
    "train_metric = model_hist.history['acc']\n",
    "test_loss = model_hist.history['val_loss']\n",
    "test_metric = model_hist.history['val_acc']\n",
    "\n",
    "fig, ax = plt.subplots(1, 2, figsize=(10, 5))\n",
    "fig.suptitle('Training Loss and Accuracy vs Epochs')\n",
    "\n",
    "ax[0].plot(train_loss, label='training loss')\n",
    "ax[0].plot(test_loss, label='test loss')\n",
    "ax[0].set_xlabel('epochs')\n",
    "ax[0].set_ylabel('categorical cross-entropy loss')\n",
    "ax[0].legend()\n",
    "\n",
    "ax[1].plot(train_metric, label='train accuracy')\n",
    "ax[1].plot(test_metric, label='test accuracy')\n",
    "ax[1].set_xlabel('epochs')\n",
    "ax[1].set_ylabel('accuracy')\n",
    "ax[1].legend()\n",
    "\n",
    "plt.tight_layout()\n",
    "plt.show()"
   ]
  },
  {
   "cell_type": "markdown",
   "metadata": {},
   "source": [
    "# Tensorboard"
   ]
  },
  {
   "cell_type": "code",
   "execution_count": null,
   "metadata": {},
   "outputs": [],
   "source": [
    "%load_ext tensorboard\n",
    "%tensorboard --logdir logs"
   ]
  },
  {
   "cell_type": "markdown",
   "metadata": {},
   "source": [
    "# Model evaluation"
   ]
  },
  {
   "cell_type": "code",
   "execution_count": 39,
   "metadata": {},
   "outputs": [
    {
     "name": "stdout",
     "output_type": "stream",
     "text": [
      "14/14 [==============================] - 1s 91ms/step - loss: 1.2053 - acc: 0.4061\n"
     ]
    },
    {
     "data": {
      "text/plain": [
       "[1.2052500247955322, 0.4061032831668854]"
      ]
     },
     "execution_count": 39,
     "metadata": {},
     "output_type": "execute_result"
    }
   ],
   "source": [
    "model.evaluate(X_test, y_test)"
   ]
  },
  {
   "cell_type": "markdown",
   "metadata": {},
   "source": [
    "# Save the model"
   ]
  },
  {
   "cell_type": "code",
   "execution_count": 36,
   "metadata": {},
   "outputs": [],
   "source": [
    "MODEL_PATH = os.path.join(os.getcwd(), 'model', 'model.h5')\n",
    "model.save(MODEL_PATH)"
   ]
  },
  {
   "cell_type": "markdown",
   "metadata": {},
   "source": [
    "# Predictions"
   ]
  },
  {
   "cell_type": "markdown",
   "metadata": {},
   "source": [
    "## generate decoded predictions from the test data"
   ]
  },
  {
   "cell_type": "code",
   "execution_count": 40,
   "metadata": {},
   "outputs": [
    {
     "data": {
      "text/plain": [
       "array(['sport', 'politics', 'sport', 'sport', 'tech', 'tech', 'tech',\n",
       "       'sport', 'sport', 'tech', 'sport', 'sport', 'tech', 'tech',\n",
       "       'sport', 'sport', 'sport', 'tech', 'tech', 'sport', 'sport',\n",
       "       'sport', 'tech', 'sport', 'sport', 'sport', 'sport', 'sport',\n",
       "       'tech', 'sport', 'tech', 'politics', 'politics', 'sport', 'tech',\n",
       "       'politics', 'tech', 'tech', 'tech', 'sport', 'sport', 'tech',\n",
       "       'tech', 'sport', 'politics', 'tech', 'sport', 'tech', 'sport',\n",
       "       'tech', 'tech', 'tech', 'tech', 'sport', 'sport', 'tech', 'tech',\n",
       "       'sport', 'sport', 'sport', 'tech', 'sport', 'tech', 'tech',\n",
       "       'sport', 'politics', 'sport', 'sport', 'tech', 'tech', 'politics',\n",
       "       'sport', 'politics', 'tech', 'tech', 'politics', 'sport', 'sport',\n",
       "       'sport', 'tech', 'politics', 'tech', 'tech', 'sport', 'sport',\n",
       "       'sport', 'tech', 'tech', 'sport', 'sport', 'sport', 'sport',\n",
       "       'sport', 'sport', 'sport', 'sport', 'sport', 'sport', 'tech',\n",
       "       'sport', 'sport', 'sport', 'sport', 'sport', 'sport', 'tech',\n",
       "       'sport', 'sport', 'sport', 'sport', 'sport', 'sport', 'tech',\n",
       "       'sport', 'sport', 'tech', 'politics', 'tech', 'sport', 'politics',\n",
       "       'politics', 'sport', 'sport', 'politics', 'sport', 'sport',\n",
       "       'sport', 'tech', 'sport', 'sport', 'tech', 'sport', 'sport',\n",
       "       'sport', 'sport', 'tech', 'sport', 'tech', 'sport', 'sport',\n",
       "       'politics', 'sport', 'sport', 'sport', 'sport', 'sport', 'sport',\n",
       "       'sport', 'sport', 'tech', 'sport', 'sport', 'tech', 'sport',\n",
       "       'sport', 'sport', 'sport', 'sport', 'tech', 'tech', 'tech', 'tech',\n",
       "       'sport', 'tech', 'sport', 'tech', 'sport', 'sport', 'tech',\n",
       "       'sport', 'sport', 'tech', 'tech', 'sport', 'sport', 'politics',\n",
       "       'sport', 'tech', 'tech', 'tech', 'sport', 'tech', 'tech', 'tech',\n",
       "       'tech', 'tech', 'politics', 'tech', 'tech', 'sport', 'sport',\n",
       "       'tech', 'sport', 'sport', 'sport', 'politics', 'sport', 'sport',\n",
       "       'tech', 'sport', 'tech', 'tech', 'sport', 'sport', 'sport',\n",
       "       'sport', 'tech', 'sport', 'tech', 'sport', 'sport', 'tech', 'tech',\n",
       "       'sport', 'sport', 'sport', 'sport', 'sport', 'tech', 'sport',\n",
       "       'politics', 'sport', 'sport', 'sport', 'sport', 'sport', 'sport',\n",
       "       'sport', 'sport', 'tech', 'sport', 'sport', 'sport', 'politics',\n",
       "       'sport', 'sport', 'sport', 'sport', 'tech', 'tech', 'sport',\n",
       "       'sport', 'tech', 'sport', 'sport', 'tech', 'tech', 'sport', 'tech',\n",
       "       'politics', 'sport', 'politics', 'sport', 'tech', 'sport', 'sport',\n",
       "       'tech', 'sport', 'tech', 'sport', 'sport', 'sport', 'sport',\n",
       "       'tech', 'tech', 'sport', 'tech', 'sport', 'tech', 'sport', 'sport',\n",
       "       'sport', 'tech', 'tech', 'sport', 'tech', 'sport', 'sport', 'tech',\n",
       "       'tech', 'sport', 'sport', 'tech', 'sport', 'sport', 'tech',\n",
       "       'sport', 'tech', 'sport', 'sport', 'tech', 'politics', 'sport',\n",
       "       'sport', 'sport', 'sport', 'sport', 'sport', 'sport', 'tech',\n",
       "       'tech', 'politics', 'sport', 'politics', 'sport', 'sport', 'tech',\n",
       "       'tech', 'sport', 'politics', 'tech', 'tech', 'sport', 'tech',\n",
       "       'politics', 'politics', 'sport', 'sport', 'sport', 'sport',\n",
       "       'sport', 'tech', 'tech', 'tech', 'sport', 'sport', 'sport',\n",
       "       'sport', 'politics', 'sport', 'sport', 'politics', 'sport',\n",
       "       'sport', 'tech', 'tech', 'politics', 'politics', 'tech', 'sport',\n",
       "       'sport', 'tech', 'sport', 'sport', 'sport', 'tech', 'sport',\n",
       "       'tech', 'sport', 'sport', 'business', 'sport', 'sport', 'sport',\n",
       "       'tech', 'tech', 'sport', 'sport', 'sport', 'politics', 'sport',\n",
       "       'tech', 'politics', 'sport', 'sport', 'sport', 'tech', 'tech',\n",
       "       'tech', 'sport', 'tech', 'sport', 'sport', 'tech', 'politics',\n",
       "       'politics', 'sport', 'tech', 'politics', 'sport', 'sport',\n",
       "       'politics', 'tech', 'tech', 'sport', 'politics', 'tech',\n",
       "       'politics', 'sport', 'sport', 'sport', 'sport', 'tech', 'sport',\n",
       "       'sport', 'sport', 'tech', 'sport', 'sport', 'sport', 'sport',\n",
       "       'tech', 'sport', 'politics', 'business', 'tech', 'sport', 'sport',\n",
       "       'sport', 'sport', 'sport', 'sport', 'sport', 'tech', 'sport',\n",
       "       'tech', 'sport', 'tech', 'politics', 'tech', 'sport', 'sport',\n",
       "       'tech', 'sport', 'politics', 'politics'], dtype=object)"
      ]
     },
     "execution_count": 40,
     "metadata": {},
     "output_type": "execute_result"
    }
   ],
   "source": [
    "# predict output\n",
    "y_pred = model.predict(X_test)\n",
    "y_pred = np.argmax(y_pred, axis=1)\n",
    "\n",
    "# vectorize conv(x) function\n",
    "conv = np.vectorize(conv)\n",
    "\n",
    "# convert to appropriate categories\n",
    "y_pred_decoded = conv(y_pred).astype(object)\n",
    "y_pred_decoded"
   ]
  },
  {
   "cell_type": "markdown",
   "metadata": {},
   "source": [
    "## decode test data from one-hot encoded form into original categories"
   ]
  },
  {
   "cell_type": "code",
   "execution_count": 41,
   "metadata": {},
   "outputs": [
    {
     "data": {
      "text/plain": [
       "array(['sport', 'politics', 'entertainment', 'tech', 'tech',\n",
       "       'entertainment', 'business', 'business', 'business', 'business',\n",
       "       'politics', 'business', 'business', 'business', 'sport', 'sport',\n",
       "       'sport', 'tech', 'tech', 'business', 'business', 'entertainment',\n",
       "       'politics', 'business', 'business', 'sport', 'sport', 'sport',\n",
       "       'entertainment', 'business', 'tech', 'politics', 'politics',\n",
       "       'sport', 'tech', 'tech', 'business', 'politics', 'tech', 'sport',\n",
       "       'business', 'politics', 'business', 'business', 'politics',\n",
       "       'politics', 'business', 'tech', 'sport', 'entertainment', 'tech',\n",
       "       'business', 'politics', 'business', 'sport', 'politics',\n",
       "       'politics', 'sport', 'business', 'sport', 'entertainment',\n",
       "       'business', 'tech', 'politics', 'sport', 'tech', 'business',\n",
       "       'entertainment', 'politics', 'politics', 'tech', 'entertainment',\n",
       "       'politics', 'politics', 'tech', 'politics', 'sport',\n",
       "       'entertainment', 'sport', 'politics', 'politics', 'tech',\n",
       "       'entertainment', 'sport', 'business', 'sport', 'business', 'tech',\n",
       "       'sport', 'business', 'sport', 'entertainment', 'sport', 'sport',\n",
       "       'business', 'sport', 'entertainment', 'sport', 'business',\n",
       "       'entertainment', 'sport', 'business', 'entertainment', 'business',\n",
       "       'entertainment', 'politics', 'entertainment', 'business',\n",
       "       'business', 'sport', 'business', 'entertainment', 'politics',\n",
       "       'sport', 'sport', 'business', 'politics', 'tech', 'sport', 'tech',\n",
       "       'politics', 'business', 'business', 'tech', 'business', 'sport',\n",
       "       'business', 'entertainment', 'entertainment', 'business',\n",
       "       'politics', 'entertainment', 'sport', 'entertainment', 'business',\n",
       "       'tech', 'business', 'tech', 'business', 'business', 'politics',\n",
       "       'sport', 'business', 'business', 'business', 'sport', 'sport',\n",
       "       'sport', 'sport', 'politics', 'sport', 'sport', 'business',\n",
       "       'business', 'sport', 'entertainment', 'business', 'sport', 'tech',\n",
       "       'tech', 'tech', 'entertainment', 'business', 'politics', 'sport',\n",
       "       'politics', 'sport', 'sport', 'tech', 'business', 'entertainment',\n",
       "       'politics', 'business', 'business', 'business', 'politics',\n",
       "       'entertainment', 'tech', 'politics', 'politics', 'entertainment',\n",
       "       'politics', 'tech', 'business', 'politics', 'tech', 'politics',\n",
       "       'tech', 'tech', 'entertainment', 'entertainment', 'politics',\n",
       "       'entertainment', 'entertainment', 'sport', 'tech', 'entertainment',\n",
       "       'business', 'entertainment', 'business', 'politics', 'politics',\n",
       "       'entertainment', 'business', 'business', 'business', 'tech',\n",
       "       'entertainment', 'tech', 'entertainment', 'entertainment',\n",
       "       'politics', 'tech', 'sport', 'sport', 'sport', 'sport', 'business',\n",
       "       'politics', 'sport', 'politics', 'entertainment', 'business',\n",
       "       'business', 'sport', 'entertainment', 'sport', 'entertainment',\n",
       "       'business', 'tech', 'entertainment', 'business', 'business',\n",
       "       'tech', 'sport', 'business', 'entertainment', 'business',\n",
       "       'entertainment', 'tech', 'sport', 'entertainment', 'tech', 'sport',\n",
       "       'business', 'tech', 'tech', 'sport', 'entertainment', 'politics',\n",
       "       'entertainment', 'tech', 'sport', 'tech', 'sport', 'entertainment',\n",
       "       'business', 'sport', 'politics', 'sport', 'entertainment',\n",
       "       'entertainment', 'sport', 'politics', 'business', 'sport',\n",
       "       'politics', 'business', 'politics', 'entertainment', 'sport',\n",
       "       'sport', 'tech', 'tech', 'sport', 'tech', 'sport', 'business',\n",
       "       'entertainment', 'politics', 'sport', 'entertainment',\n",
       "       'entertainment', 'sport', 'business', 'tech', 'business', 'tech',\n",
       "       'entertainment', 'sport', 'politics', 'politics', 'entertainment',\n",
       "       'entertainment', 'sport', 'entertainment', 'entertainment',\n",
       "       'business', 'business', 'business', 'politics', 'tech', 'sport',\n",
       "       'politics', 'sport', 'entertainment', 'business', 'tech',\n",
       "       'entertainment', 'tech', 'tech', 'tech', 'entertainment',\n",
       "       'politics', 'tech', 'politics', 'sport', 'business', 'business',\n",
       "       'sport', 'sport', 'sport', 'tech', 'politics', 'entertainment',\n",
       "       'business', 'sport', 'business', 'politics', 'sport', 'business',\n",
       "       'politics', 'entertainment', 'business', 'politics', 'politics',\n",
       "       'politics', 'tech', 'politics', 'entertainment', 'business',\n",
       "       'politics', 'sport', 'sport', 'sport', 'politics', 'business',\n",
       "       'tech', 'sport', 'business', 'entertainment', 'entertainment',\n",
       "       'business', 'entertainment', 'politics', 'business', 'business',\n",
       "       'entertainment', 'business', 'tech', 'sport', 'business', 'tech',\n",
       "       'sport', 'sport', 'sport', 'business', 'tech', 'politics',\n",
       "       'business', 'tech', 'sport', 'sport', 'politics', 'politics',\n",
       "       'tech', 'sport', 'politics', 'politics', 'business', 'sport',\n",
       "       'politics', 'politics', 'tech', 'entertainment', 'politics',\n",
       "       'politics', 'tech', 'sport', 'sport', 'entertainment', 'business',\n",
       "       'politics', 'politics', 'entertainment', 'business', 'tech',\n",
       "       'business', 'sport', 'sport', 'entertainment', 'politics', 'sport',\n",
       "       'politics', 'politics', 'tech', 'sport', 'business', 'sport',\n",
       "       'business', 'business', 'entertainment', 'business', 'politics',\n",
       "       'business', 'politics', 'sport', 'politics', 'politics', 'tech',\n",
       "       'business', 'sport', 'politics', 'entertainment', 'tech',\n",
       "       'politics'], dtype=object)"
      ]
     },
     "execution_count": 41,
     "metadata": {},
     "output_type": "execute_result"
    }
   ],
   "source": [
    "y_test_decoded = ohe.inverse_transform(y_test)\n",
    "y_test_decoded = y_test_decoded[:,0]\n",
    "y_test_decoded"
   ]
  },
  {
   "cell_type": "markdown",
   "metadata": {},
   "source": [
    "# Model performance key metrics"
   ]
  },
  {
   "cell_type": "markdown",
   "metadata": {},
   "source": [
    "## classification report"
   ]
  },
  {
   "cell_type": "code",
   "execution_count": 42,
   "metadata": {},
   "outputs": [
    {
     "name": "stdout",
     "output_type": "stream",
     "text": [
      "               precision    recall  f1-score   support\n",
      "\n",
      "     business       0.00      0.00      0.00       104\n",
      "entertainment       0.00      0.00      0.00        73\n",
      "     politics       0.61      0.32      0.42        84\n",
      "        sport       0.40      0.99      0.57        98\n",
      "         tech       0.36      0.73      0.48        67\n",
      "\n",
      "     accuracy                           0.41       426\n",
      "    macro avg       0.27      0.41      0.29       426\n",
      " weighted avg       0.27      0.41      0.29       426\n",
      "\n"
     ]
    },
    {
     "name": "stderr",
     "output_type": "stream",
     "text": [
      "c:\\Users\\rhmnnmhmd\\.conda\\envs\\tf_env\\lib\\site-packages\\sklearn\\metrics\\_classification.py:1318: UndefinedMetricWarning: Precision and F-score are ill-defined and being set to 0.0 in labels with no predicted samples. Use `zero_division` parameter to control this behavior.\n",
      "  _warn_prf(average, modifier, msg_start, len(result))\n",
      "c:\\Users\\rhmnnmhmd\\.conda\\envs\\tf_env\\lib\\site-packages\\sklearn\\metrics\\_classification.py:1318: UndefinedMetricWarning: Precision and F-score are ill-defined and being set to 0.0 in labels with no predicted samples. Use `zero_division` parameter to control this behavior.\n",
      "  _warn_prf(average, modifier, msg_start, len(result))\n",
      "c:\\Users\\rhmnnmhmd\\.conda\\envs\\tf_env\\lib\\site-packages\\sklearn\\metrics\\_classification.py:1318: UndefinedMetricWarning: Precision and F-score are ill-defined and being set to 0.0 in labels with no predicted samples. Use `zero_division` parameter to control this behavior.\n",
      "  _warn_prf(average, modifier, msg_start, len(result))\n"
     ]
    }
   ],
   "source": [
    "report = classification_report(y_test_decoded, y_pred_decoded)\n",
    "print(report)"
   ]
  },
  {
   "cell_type": "markdown",
   "metadata": {},
   "source": [
    "## confusion matrix plot"
   ]
  },
  {
   "cell_type": "code",
   "execution_count": 43,
   "metadata": {},
   "outputs": [
    {
     "data": {
      "image/png": "[encoded data removed]",
      "text/plain": [
       "<Figure size 720x360 with 2 Axes>"
      ]
     },
     "metadata": {
      "needs_background": "light"
     },
     "output_type": "display_data"
    }
   ],
   "source": [
    "fig, ax = plt.subplots(1, 1, figsize=(10, 5))\n",
    "ConfusionMatrixDisplay.from_predictions(y_test_decoded, \n",
    "                                        y_pred_decoded, \n",
    "                                        normalize='all', \n",
    "                                        ax=ax)\n",
    "plt.tight_layout()\n",
    "plt.show()"
   ]
  },
  {
   "cell_type": "markdown",
   "metadata": {},
   "source": [
    "# Custom input testing"
   ]
  },
  {
   "cell_type": "code",
   "execution_count": 49,
   "metadata": {},
   "outputs": [
    {
     "name": "stdout",
     "output_type": "stream",
     "text": [
      "Your review have tech sentiment\n"
     ]
    },
    {
     "name": "stderr",
     "output_type": "stream",
     "text": [
      "C:\\Users\\rhmnnmhmd\\AppData\\Local\\Temp\\ipykernel_17228\\283986300.py:4: FutureWarning: The default value of regex will change from True to False in a future version.\n",
      "  input_review = input_review.str.replace('<.*?>', ' ')\n",
      "C:\\Users\\rhmnnmhmd\\AppData\\Local\\Temp\\ipykernel_17228\\283986300.py:5: FutureWarning: The default value of regex will change from True to False in a future version.\n",
      "  input_review = input_review.str.replace('[^a-zA-Z]', ' ')\n"
     ]
    }
   ],
   "source": [
    "my_review = input('Give your review: ')\n",
    "\n",
    "input_review = pd.Series([my_review], name='review')\n",
    "input_review = input_review.str.replace('<.*?>', ' ')\n",
    "input_review = input_review.str.replace('[^a-zA-Z]', ' ')\n",
    "input_review = input_review.str.lower()\n",
    "\n",
    "input_review_tokenized = tokenizer.texts_to_sequences(input_review)\n",
    "\n",
    "max_len = int(texts.apply(lambda x: len(x.split())).median()) # this value is 333 for now\n",
    "input_review_tokenized_padded = pad_sequences(input_review_tokenized, maxlen=max_len, padding='post', truncating='post')\n",
    "\n",
    "predicted_sentiment = model.predict(input_review_tokenized_padded)\n",
    "predicted_sentiment = np.argmax(predicted_sentiment, axis=1)\n",
    "predicted_sentiment_decoded = conv(predicted_sentiment).astype(object)\n",
    "\n",
    "print(f'Your review have {predicted_sentiment_decoded[0]} sentiment')"
   ]
  }
 ],
 "metadata": {
  "kernelspec": {
   "display_name": "Python 3.8.13 ('tf_env')",
   "language": "python",
   "name": "python3"
  },
  "language_info": {
   "codemirror_mode": {
    "name": "ipython",
    "version": 3
   },
   "file_extension": ".py",
   "mimetype": "text/x-python",
   "name": "python",
   "nbconvert_exporter": "python",
   "pygments_lexer": "ipython3",
   "version": "3.8.13"
  },
  "orig_nbformat": 4,
  "vscode": {
   "interpreter": {
    "hash": "c6fc66f71a4b96d3bac3616c54eafe1eb1c4acefbef9e7afe38817145388afa6"
   }
  }
 },
 "nbformat": 4,
 "nbformat_minor": 2
}
